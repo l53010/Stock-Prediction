{
 "cells": [
  {
   "cell_type": "markdown",
   "metadata": {},
   "source": [
    "# 1. Library:"
   ]
  },
  {
   "cell_type": "markdown",
   "metadata": {},
   "source": [
    "### 1.1. Data Manupulation"
   ]
  },
  {
   "cell_type": "code",
   "execution_count": 1,
   "metadata": {},
   "outputs": [],
   "source": [
    "import numpy as np\n",
    "import pandas as pd"
   ]
  },
  {
   "cell_type": "code",
   "execution_count": 2,
   "metadata": {},
   "outputs": [
    {
     "name": "stdout",
     "output_type": "stream",
     "text": [
      "Requirement already satisfied: ipython in /Users/inigo/anaconda3/lib/python3.7/site-packages (7.6.1)\n",
      "Requirement already satisfied: setuptools>=18.5 in /Users/inigo/anaconda3/lib/python3.7/site-packages (from ipython) (41.0.1)\n",
      "Requirement already satisfied: pickleshare in /Users/inigo/anaconda3/lib/python3.7/site-packages (from ipython) (0.7.5)\n",
      "Requirement already satisfied: prompt-toolkit<2.1.0,>=2.0.0 in /Users/inigo/anaconda3/lib/python3.7/site-packages (from ipython) (2.0.9)\n",
      "Requirement already satisfied: jedi>=0.10 in /Users/inigo/anaconda3/lib/python3.7/site-packages (from ipython) (0.13.3)\n",
      "Requirement already satisfied: backcall in /Users/inigo/anaconda3/lib/python3.7/site-packages (from ipython) (0.1.0)\n",
      "Requirement already satisfied: appnope; sys_platform == \"darwin\" in /Users/inigo/anaconda3/lib/python3.7/site-packages (from ipython) (0.1.0)\n",
      "Requirement already satisfied: pygments in /Users/inigo/anaconda3/lib/python3.7/site-packages (from ipython) (2.4.2)\n",
      "Requirement already satisfied: decorator in /Users/inigo/anaconda3/lib/python3.7/site-packages (from ipython) (4.4.0)\n",
      "Requirement already satisfied: traitlets>=4.2 in /Users/inigo/anaconda3/lib/python3.7/site-packages (from ipython) (4.3.2)\n",
      "Requirement already satisfied: pexpect; sys_platform != \"win32\" in /Users/inigo/anaconda3/lib/python3.7/site-packages (from ipython) (4.7.0)\n",
      "Requirement already satisfied: wcwidth in /Users/inigo/anaconda3/lib/python3.7/site-packages (from prompt-toolkit<2.1.0,>=2.0.0->ipython) (0.1.7)\n",
      "Requirement already satisfied: six>=1.9.0 in /Users/inigo/anaconda3/lib/python3.7/site-packages (from prompt-toolkit<2.1.0,>=2.0.0->ipython) (1.12.0)\n",
      "Requirement already satisfied: parso>=0.3.0 in /Users/inigo/anaconda3/lib/python3.7/site-packages (from jedi>=0.10->ipython) (0.5.0)\n",
      "Requirement already satisfied: ipython-genutils in /Users/inigo/anaconda3/lib/python3.7/site-packages (from traitlets>=4.2->ipython) (0.2.0)\n",
      "Requirement already satisfied: ptyprocess>=0.5 in /Users/inigo/anaconda3/lib/python3.7/site-packages (from pexpect; sys_platform != \"win32\"->ipython) (0.6.0)\n",
      "Note: you may need to restart the kernel to use updated packages.\n"
     ]
    }
   ],
   "source": [
    "pip install ipython"
   ]
  },
  {
   "cell_type": "markdown",
   "metadata": {},
   "source": [
    "### 1.2. Plotting graphs"
   ]
  },
  {
   "cell_type": "code",
   "execution_count": 3,
   "metadata": {},
   "outputs": [],
   "source": [
    "import matplotlib.pyplot as plt\n",
    "import seaborn as sns"
   ]
  },
  {
   "cell_type": "markdown",
   "metadata": {},
   "source": [
    "### 1.3 Machine learning"
   ]
  },
  {
   "cell_type": "code",
   "execution_count": 4,
   "metadata": {},
   "outputs": [],
   "source": [
    "from sklearn.linear_model import LogisticRegression\n",
    "from sklearn import metrics\n",
    "from sklearn.model_selection import cross_val_score\n",
    "from scipy.stats import norm"
   ]
  },
  {
   "cell_type": "markdown",
   "metadata": {},
   "source": [
    "### 1.4 Data fetching"
   ]
  },
  {
   "cell_type": "code",
   "execution_count": 5,
   "metadata": {},
   "outputs": [],
   "source": [
    "import pandas_datareader as web\n",
    "import datetime as dt"
   ]
  },
  {
   "cell_type": "markdown",
   "metadata": {},
   "source": [
    "# 2. Targeted data"
   ]
  },
  {
   "cell_type": "code",
   "execution_count": 6,
   "metadata": {},
   "outputs": [],
   "source": [
    "start=dt.datetime(2010,1,1)\n",
    "end=dt.datetime(2019,11,11)"
   ]
  },
  {
   "cell_type": "markdown",
   "metadata": {},
   "source": [
    "### 2.1 Dataframe (S&P 500)"
   ]
  },
  {
   "cell_type": "code",
   "execution_count": 7,
   "metadata": {},
   "outputs": [],
   "source": [
    "df=web.DataReader('SPY','yahoo',start,end)"
   ]
  },
  {
   "cell_type": "code",
   "execution_count": 8,
   "metadata": {},
   "outputs": [
    {
     "data": {
      "text/html": [
       "<div>\n",
       "<style scoped>\n",
       "    .dataframe tbody tr th:only-of-type {\n",
       "        vertical-align: middle;\n",
       "    }\n",
       "\n",
       "    .dataframe tbody tr th {\n",
       "        vertical-align: top;\n",
       "    }\n",
       "\n",
       "    .dataframe thead th {\n",
       "        text-align: right;\n",
       "    }\n",
       "</style>\n",
       "<table border=\"1\" class=\"dataframe\">\n",
       "  <thead>\n",
       "    <tr style=\"text-align: right;\">\n",
       "      <th></th>\n",
       "      <th>High</th>\n",
       "      <th>Low</th>\n",
       "      <th>Open</th>\n",
       "      <th>Close</th>\n",
       "    </tr>\n",
       "    <tr>\n",
       "      <th>Date</th>\n",
       "      <th></th>\n",
       "      <th></th>\n",
       "      <th></th>\n",
       "      <th></th>\n",
       "    </tr>\n",
       "  </thead>\n",
       "  <tbody>\n",
       "    <tr>\n",
       "      <th>2010-01-04</th>\n",
       "      <td>114.002000</td>\n",
       "      <td>112.926001</td>\n",
       "      <td>113.308000</td>\n",
       "      <td>113.886000</td>\n",
       "    </tr>\n",
       "    <tr>\n",
       "      <th>2010-01-11</th>\n",
       "      <td>114.851999</td>\n",
       "      <td>113.689999</td>\n",
       "      <td>114.444000</td>\n",
       "      <td>114.316002</td>\n",
       "    </tr>\n",
       "    <tr>\n",
       "      <th>2010-01-18</th>\n",
       "      <td>113.897497</td>\n",
       "      <td>111.804998</td>\n",
       "      <td>113.254999</td>\n",
       "      <td>112.464998</td>\n",
       "    </tr>\n",
       "    <tr>\n",
       "      <th>2010-01-25</th>\n",
       "      <td>110.202002</td>\n",
       "      <td>108.382002</td>\n",
       "      <td>109.589999</td>\n",
       "      <td>108.973999</td>\n",
       "    </tr>\n",
       "    <tr>\n",
       "      <th>2010-02-01</th>\n",
       "      <td>109.209999</td>\n",
       "      <td>107.378000</td>\n",
       "      <td>108.566000</td>\n",
       "      <td>108.474001</td>\n",
       "    </tr>\n",
       "  </tbody>\n",
       "</table>\n",
       "</div>"
      ],
      "text/plain": [
       "                  High         Low        Open       Close\n",
       "Date                                                      \n",
       "2010-01-04  114.002000  112.926001  113.308000  113.886000\n",
       "2010-01-11  114.851999  113.689999  114.444000  114.316002\n",
       "2010-01-18  113.897497  111.804998  113.254999  112.464998\n",
       "2010-01-25  110.202002  108.382002  109.589999  108.973999\n",
       "2010-02-01  109.209999  107.378000  108.566000  108.474001"
      ]
     },
     "execution_count": 8,
     "metadata": {},
     "output_type": "execute_result"
    }
   ],
   "source": [
    "df=df.resample('7D').mean()\n",
    "df=df.dropna()\n",
    "df=df.iloc[:,:-1]\n",
    "del df['Volume']\n",
    "df.head()"
   ]
  },
  {
   "cell_type": "markdown",
   "metadata": {},
   "source": [
    "### 2.2 Adding variables"
   ]
  },
  {
   "cell_type": "code",
   "execution_count": null,
   "metadata": {},
   "outputs": [],
   "source": []
  },
  {
   "cell_type": "code",
   "execution_count": 9,
   "metadata": {},
   "outputs": [],
   "source": [
    "df['m10'] = df['Close'].rolling(window=10).mean()\n",
    "df['Corr'] = df['Close'].rolling(window=10).corr(df['m10'])\n",
    "df['Open-Close'] = df['Open'] - df['Close'].shift(1)\n",
    "df['Open-Open'] = df['Open'] - df['Open'].shift(1)\n",
    "df['EMA'] = df['Close'].ewm(span=10).mean()\n",
    "df['ROC'] = ((df['Close'] - df['Close'].shift(-1))/df['Close'].shift(-1))*100\n"
   ]
  },
  {
   "cell_type": "code",
   "execution_count": 10,
   "metadata": {},
   "outputs": [
    {
     "data": {
      "text/html": [
       "<div>\n",
       "<style scoped>\n",
       "    .dataframe tbody tr th:only-of-type {\n",
       "        vertical-align: middle;\n",
       "    }\n",
       "\n",
       "    .dataframe tbody tr th {\n",
       "        vertical-align: top;\n",
       "    }\n",
       "\n",
       "    .dataframe thead th {\n",
       "        text-align: right;\n",
       "    }\n",
       "</style>\n",
       "<table border=\"1\" class=\"dataframe\">\n",
       "  <thead>\n",
       "    <tr style=\"text-align: right;\">\n",
       "      <th></th>\n",
       "      <th>High</th>\n",
       "      <th>Low</th>\n",
       "      <th>Open</th>\n",
       "      <th>Close</th>\n",
       "      <th>m10</th>\n",
       "      <th>Corr</th>\n",
       "      <th>Open-Close</th>\n",
       "      <th>Open-Open</th>\n",
       "      <th>EMA</th>\n",
       "      <th>ROC</th>\n",
       "    </tr>\n",
       "    <tr>\n",
       "      <th>Date</th>\n",
       "      <th></th>\n",
       "      <th></th>\n",
       "      <th></th>\n",
       "      <th></th>\n",
       "      <th></th>\n",
       "      <th></th>\n",
       "      <th></th>\n",
       "      <th></th>\n",
       "      <th></th>\n",
       "      <th></th>\n",
       "    </tr>\n",
       "  </thead>\n",
       "  <tbody>\n",
       "    <tr>\n",
       "      <th>2010-05-10</th>\n",
       "      <td>116.928001</td>\n",
       "      <td>114.934001</td>\n",
       "      <td>115.884000</td>\n",
       "      <td>115.864000</td>\n",
       "      <td>117.69500</td>\n",
       "      <td>0.257754</td>\n",
       "      <td>0.106000</td>\n",
       "      <td>-0.886000</td>\n",
       "      <td>116.952947</td>\n",
       "      <td>4.427139</td>\n",
       "    </tr>\n",
       "    <tr>\n",
       "      <th>2010-05-17</th>\n",
       "      <td>112.355998</td>\n",
       "      <td>109.398000</td>\n",
       "      <td>111.227998</td>\n",
       "      <td>110.952000</td>\n",
       "      <td>117.29800</td>\n",
       "      <td>-0.216907</td>\n",
       "      <td>-4.636002</td>\n",
       "      <td>-4.656001</td>\n",
       "      <td>115.841785</td>\n",
       "      <td>2.197742</td>\n",
       "    </tr>\n",
       "    <tr>\n",
       "      <th>2010-05-24</th>\n",
       "      <td>109.650002</td>\n",
       "      <td>107.293999</td>\n",
       "      <td>108.388000</td>\n",
       "      <td>108.566000</td>\n",
       "      <td>116.51440</td>\n",
       "      <td>-0.342284</td>\n",
       "      <td>-2.564000</td>\n",
       "      <td>-2.839998</td>\n",
       "      <td>114.499062</td>\n",
       "      <td>-0.258618</td>\n",
       "    </tr>\n",
       "    <tr>\n",
       "      <th>2010-05-31</th>\n",
       "      <td>110.169998</td>\n",
       "      <td>107.730001</td>\n",
       "      <td>108.922501</td>\n",
       "      <td>108.847500</td>\n",
       "      <td>115.71775</td>\n",
       "      <td>-0.334211</td>\n",
       "      <td>0.356500</td>\n",
       "      <td>0.534500</td>\n",
       "      <td>113.458922</td>\n",
       "      <td>1.349652</td>\n",
       "    </tr>\n",
       "    <tr>\n",
       "      <th>2010-06-07</th>\n",
       "      <td>108.350000</td>\n",
       "      <td>105.964001</td>\n",
       "      <td>107.212000</td>\n",
       "      <td>107.398001</td>\n",
       "      <td>114.71955</td>\n",
       "      <td>-0.125469</td>\n",
       "      <td>-1.635500</td>\n",
       "      <td>-1.710501</td>\n",
       "      <td>112.345920</td>\n",
       "      <td>-3.651272</td>\n",
       "    </tr>\n",
       "  </tbody>\n",
       "</table>\n",
       "</div>"
      ],
      "text/plain": [
       "                  High         Low        Open       Close        m10  \\\n",
       "Date                                                                    \n",
       "2010-05-10  116.928001  114.934001  115.884000  115.864000  117.69500   \n",
       "2010-05-17  112.355998  109.398000  111.227998  110.952000  117.29800   \n",
       "2010-05-24  109.650002  107.293999  108.388000  108.566000  116.51440   \n",
       "2010-05-31  110.169998  107.730001  108.922501  108.847500  115.71775   \n",
       "2010-06-07  108.350000  105.964001  107.212000  107.398001  114.71955   \n",
       "\n",
       "                Corr  Open-Close  Open-Open         EMA       ROC  \n",
       "Date                                                               \n",
       "2010-05-10  0.257754    0.106000  -0.886000  116.952947  4.427139  \n",
       "2010-05-17 -0.216907   -4.636002  -4.656001  115.841785  2.197742  \n",
       "2010-05-24 -0.342284   -2.564000  -2.839998  114.499062 -0.258618  \n",
       "2010-05-31 -0.334211    0.356500   0.534500  113.458922  1.349652  \n",
       "2010-06-07 -0.125469   -1.635500  -1.710501  112.345920 -3.651272  "
      ]
     },
     "execution_count": 10,
     "metadata": {},
     "output_type": "execute_result"
    }
   ],
   "source": [
    "X=df.dropna()\n",
    "X.head()"
   ]
  },
  {
   "cell_type": "code",
   "execution_count": 11,
   "metadata": {},
   "outputs": [],
   "source": [
    "#X=XY[['m10','EMA','Corr','Open-Close','Open-Open','ROC']]"
   ]
  },
  {
   "cell_type": "code",
   "execution_count": 12,
   "metadata": {},
   "outputs": [
    {
     "data": {
      "image/png": "[encoded data removed]",
      "text/plain": [
       "<Figure size 864x864 with 2 Axes>"
      ]
     },
     "metadata": {
      "needs_background": "light"
     },
     "output_type": "display_data"
    }
   ],
   "source": [
    "fig = plt.figure(figsize=[12, 12])\n",
    "corr_mtx = X.corr()\n",
    "sns.heatmap(corr_mtx, xticklabels=corr_mtx.columns, yticklabels=corr_mtx.columns, annot=True, cmap='Blues')\n",
    "plt.title('Correlation analysis')\n",
    "plt.show()"
   ]
  },
  {
   "cell_type": "code",
   "execution_count": 13,
   "metadata": {},
   "outputs": [
    {
     "name": "stdout",
     "output_type": "stream",
     "text": [
      "                  High         Low        Open       Close         m10  \\\n",
      "Date                                                                     \n",
      "2010-05-10  116.928001  114.934001  115.884000  115.864000  117.695000   \n",
      "2010-05-17  112.355998  109.398000  111.227998  110.952000  117.298000   \n",
      "2010-05-24  109.650002  107.293999  108.388000  108.566000  116.514400   \n",
      "2010-05-31  110.169998  107.730001  108.922501  108.847500  115.717750   \n",
      "2010-06-07  108.350000  105.964001  107.212000  107.398001  114.719550   \n",
      "2010-06-14  112.020000  110.622000  111.265999  111.468001  113.976750   \n",
      "2010-06-21  110.475999  108.518001  110.120001  109.100002  112.858550   \n",
      "2010-06-28  105.523999  103.264000  104.845999  103.984000  111.173350   \n",
      "2010-07-05  106.465000  104.434999  105.224998  106.025002  109.798251   \n",
      "2010-07-12  109.535999  107.912000  108.951999  108.736002  109.094051   \n",
      "2010-07-19  109.153999  107.186000  107.908000  108.542001  108.361851   \n",
      "2010-07-26  111.660001  110.050002  110.955998  110.900000  108.356651   \n",
      "2010-08-02  112.860001  111.710001  112.198000  112.638000  108.763851   \n",
      "2010-08-09  110.966000  109.718001  110.308000  110.321999  108.911301   \n",
      "2010-08-16  109.362000  107.830000  108.616000  108.609999  109.032500   \n",
      "2010-08-23  106.970000  105.103999  106.253999  106.136002  108.499301   \n",
      "2010-08-30  108.396001  106.978000  107.498001  107.887999  108.378100   \n",
      "2010-09-06  111.162500  110.212502  110.750002  110.612501  109.040950   \n",
      "2010-09-13  113.144000  112.144000  112.634001  112.798001  109.718250   \n",
      "2010-09-20  114.462000  112.992000  113.444000  113.786000  110.223250   \n",
      "2010-09-27  115.170001  113.775999  114.739999  114.429999  110.812050   \n",
      "2010-10-04  116.178000  114.842000  115.548001  115.650000  111.287050   \n",
      "2010-10-11  117.846001  116.552000  117.348000  117.348000  111.758050   \n",
      "2010-10-18  118.515999  117.081999  117.716000  117.872000  112.513050   \n",
      "2010-10-25  118.988000  117.928001  118.493999  118.537999  113.505850   \n",
      "2010-11-01  120.951999  119.509999  120.357999  120.586000  114.950850   \n",
      "2010-11-08  122.194000  120.810002  121.722000  121.607999  116.322850   \n",
      "2010-11-15  119.995999  118.806000  119.468001  119.332001  117.194800   \n",
      "2010-11-22  119.824999  118.684999  119.205000  119.410000  117.856000   \n",
      "2010-11-29  121.114000  119.795999  120.003999  120.822000  118.559600   \n",
      "...                ...         ...         ...         ...         ...   \n",
      "2019-04-15  290.777504  289.057495  290.672501  289.900002  281.721500   \n",
      "2019-04-22  292.602002  290.706006  291.372003  292.167999  283.509100   \n",
      "2019-04-29  294.156006  291.589996  293.244000  292.981995  284.986799   \n",
      "2019-05-06  289.963995  285.435992  287.556000  288.608002  285.904799   \n",
      "2019-05-13  286.433997  282.803998  283.396002  284.571997  286.657599   \n",
      "2019-05-20  285.397998  283.285999  284.447998  284.202008  287.043000   \n",
      "2019-05-27  280.167496  277.472496  279.327499  278.179993  286.655800   \n",
      "2019-06-03  282.923993  279.667999  280.795996  282.101996  286.805999   \n",
      "2019-06-10  290.278003  288.379999  289.532001  289.020001  287.028599   \n",
      "2019-06-17  293.853998  291.706000  292.726001  292.937994  287.467199   \n",
      "2019-06-24  293.245996  291.472009  292.714001  291.874005  287.664599   \n",
      "2019-07-01  297.717506  295.509995  296.727493  297.337494  288.181548   \n",
      "2019-07-08  299.150000  297.438007  298.018005  298.515997  288.734949   \n",
      "2019-07-15  300.252002  298.210004  299.752002  298.853998  289.759548   \n",
      "2019-07-22  300.640002  298.815997  299.528003  300.276001  291.329949   \n",
      "2019-07-29  299.874005  296.079999  298.846002  297.413995  292.651147   \n",
      "2019-08-05  290.385999  285.340002  288.119995  288.965997  293.729748   \n",
      "2019-08-12  289.893994  285.047998  287.426001  287.603998  294.279948   \n",
      "2019-08-19  292.997992  289.396002  292.118005  290.415997  294.419548   \n",
      "2019-08-26  290.884003  287.777997  289.778003  289.758002  294.101548   \n",
      "2019-09-02  295.807495  293.250000  294.667511  295.162498  294.430398   \n",
      "2019-09-09  300.482001  298.394000  299.600000  299.792004  294.675849   \n",
      "2019-09-16  301.336005  299.112000  300.431995  300.308002  294.855049   \n",
      "2019-09-23  298.551996  295.109998  297.675995  296.819995  294.651649   \n",
      "2019-09-30  294.520001  290.292004  292.832001  292.567999  293.880849   \n",
      "2019-10-07  294.471997  291.691998  292.541998  292.479993  293.387449   \n",
      "2019-10-14  299.034003  297.202002  297.953998  298.096002  294.300449   \n",
      "2019-10-21  300.864001  299.097998  299.876001  300.170001  295.557049   \n",
      "2019-10-28  304.590002  302.845996  303.684003  304.023999  296.917850   \n",
      "2019-11-04  308.394000  306.883997  307.767999  307.723999  298.714449   \n",
      "\n",
      "                Corr  Open-Close  Open-Open         EMA       ROC  \n",
      "Date                                                               \n",
      "2010-05-10  0.257754    0.106000  -0.886000  116.952947  4.427139  \n",
      "2010-05-17 -0.216907   -4.636002  -4.656001  115.841785  2.197742  \n",
      "2010-05-24 -0.342284   -2.564000  -2.839998  114.499062 -0.258618  \n",
      "2010-05-31 -0.334211    0.356500   0.534500  113.458922  1.349652  \n",
      "2010-06-07 -0.125469   -1.635500  -1.710501  112.345920 -3.651272  \n",
      "2010-06-14  0.156064    3.867998   4.053999  112.184995  2.170485  \n",
      "2010-06-21  0.465325   -1.348000  -1.145998  111.620346  4.919990  \n",
      "2010-06-28  0.713365   -4.254002  -5.274002  110.224351 -1.925019  \n",
      "2010-07-05  0.768735    1.240999   0.378999  109.457432 -2.493195  \n",
      "2010-07-12  0.639903    2.926997   3.727000  109.325785  0.178733  \n",
      "2010-07-19  0.438538   -0.828001  -1.043999  109.182854 -2.126239  \n",
      "2010-07-26  0.076591    2.413997   3.047998  109.495823 -1.542997  \n",
      "2010-08-02 -0.110781    1.298000   1.242001  110.068266  2.099311  \n",
      "2010-08-09 -0.180162   -2.330000  -1.889999  110.114474  1.576282  \n",
      "2010-08-16 -0.063251   -1.705998  -1.692000  109.840569  2.330969  \n",
      "2010-08-23 -0.328067   -2.356000  -2.362001  109.166277 -1.623904  \n",
      "2010-08-30 -0.640727    1.362000   1.244002  108.933656 -2.463105  \n",
      "2010-09-06 -0.238541    2.862003   3.252001  109.239123 -1.937534  \n",
      "2010-09-13  0.517733    2.021500   1.883999  109.886578 -0.868296  \n",
      "2010-09-20  0.713256    0.645999   0.809999  110.595910 -0.562788  \n",
      "2010-09-27  0.766792    0.953999   1.295999  111.293295 -1.054908  \n",
      "2010-10-04  0.866385    1.118002   0.808002  112.085682 -1.446978  \n",
      "2010-10-11  0.960512    1.698000   1.799998  113.042723 -0.444550  \n",
      "2010-10-18  0.964992    0.368001   0.368001  113.920965 -0.561844  \n",
      "2010-10-25  0.952442    0.621999   0.777998  114.760576 -1.698374  \n",
      "2010-11-01  0.966534    1.820000   1.864000  115.819899 -0.840404  \n",
      "2010-11-08  0.973620    1.136000   1.364001  116.872407  1.907282  \n",
      "2010-11-15  0.913135   -2.139998  -2.253999  117.319650 -0.065320  \n",
      "2010-11-22  0.853594   -0.127001  -0.263001  117.699744 -1.168662  \n",
      "2010-11-29  0.837988    0.593999   0.798999  118.267464 -2.106595  \n",
      "...              ...         ...        ...         ...       ...  \n",
      "2019-04-15  0.914136    2.120499   2.188504  281.579234 -0.776265  \n",
      "2019-04-22  0.908726    1.472002   0.699503  283.504464 -0.277831  \n",
      "2019-04-29  0.941263    1.076001   1.871997  285.227652  1.515548  \n",
      "2019-05-06  0.938077   -5.425995  -5.688000  285.842261  1.418272  \n",
      "2019-05-13  0.742327   -5.212000  -4.159998  285.611304  0.130185  \n",
      "2019-05-20  0.484119   -0.123999   1.051996  285.355068  2.164791  \n",
      "2019-05-27  0.042230   -4.874509  -5.120499  284.050509 -1.390278  \n",
      "2019-06-03 -0.419772    2.616003   1.468497  283.696234 -2.393608  \n",
      "2019-06-10 -0.501405    7.430005   8.736005  284.664192 -1.337482  \n",
      "2019-06-17 -0.405939    3.706000   3.194000  286.168519  0.364537  \n",
      "2019-06-24 -0.287654   -0.223993  -0.012000  287.205880 -1.837471  \n",
      "2019-07-01  0.232400    4.853488   4.013492  289.047992 -0.394787  \n",
      "2019-07-08  0.769038    0.680511   1.290512  290.769447 -0.113099  \n",
      "2019-07-15  0.879836    1.236005   1.733997  292.239366 -0.473565  \n",
      "2019-07-22  0.823446    0.674005  -0.223999  293.700572  0.962297  \n",
      "2019-07-29  0.722526   -1.429999  -0.682001  294.375740  2.923527  \n",
      "2019-08-05  0.346212   -9.294000 -10.726007  293.392150  0.473568  \n",
      "2019-08-12 -0.167906   -1.539996  -0.693994  292.339759 -0.968266  \n",
      "2019-08-19 -0.461439    4.514008   4.692004  291.989984  0.227085  \n",
      "2019-08-26 -0.611824   -0.637994  -2.340002  291.584169 -1.831024  \n",
      "2019-09-02 -0.747418    4.909509   4.889508  292.234775 -1.544239  \n",
      "2019-09-09 -0.579112    4.437502   4.932489  293.608816 -0.171823  \n",
      "2019-09-16 -0.380102    0.639990   0.831995  294.826850  1.175125  \n",
      "2019-09-23 -0.230505   -2.632007  -2.756000  295.189240  1.453336  \n",
      "2019-09-30  0.189018   -3.987994  -4.843994  294.712651  0.030090  \n",
      "2019-10-07  0.633603   -0.026001  -0.290002  294.306713 -1.883960  \n",
      "2019-10-14  0.550846    5.474005   5.412000  294.995675 -0.690941  \n",
      "2019-10-21  0.703099    1.779999   1.922003  295.936461 -1.267662  \n",
      "2019-10-28  0.839185    3.514001   3.808002  297.406923 -1.202376  \n",
      "2019-11-04  0.933282    3.744000   4.083997  299.282755 -0.203018  \n",
      "\n",
      "[496 rows x 10 columns]\n"
     ]
    }
   ],
   "source": [
    "print(X)"
   ]
  },
  {
   "cell_type": "markdown",
   "metadata": {},
   "source": [
    "# 3. Define Y (the classes): \n",
    "\n",
    "If Closing of t+1 > closing of t, Y = 1. If not, Y = -1\n",
    "\n"
   ]
  },
  {
   "cell_type": "code",
   "execution_count": 16,
   "metadata": {},
   "outputs": [
    {
     "name": "stdout",
     "output_type": "stream",
     "text": [
      "                  High         Low        Open       Close         m10  \\\n",
      "Date                                                                     \n",
      "2010-05-10  116.928001  114.934001  115.884000  115.864000  117.695000   \n",
      "2010-05-17  112.355998  109.398000  111.227998  110.952000  117.298000   \n",
      "2010-05-24  109.650002  107.293999  108.388000  108.566000  116.514400   \n",
      "2010-05-31  110.169998  107.730001  108.922501  108.847500  115.717750   \n",
      "2010-06-07  108.350000  105.964001  107.212000  107.398001  114.719550   \n",
      "2010-06-14  112.020000  110.622000  111.265999  111.468001  113.976750   \n",
      "2010-06-21  110.475999  108.518001  110.120001  109.100002  112.858550   \n",
      "2010-06-28  105.523999  103.264000  104.845999  103.984000  111.173350   \n",
      "2010-07-05  106.465000  104.434999  105.224998  106.025002  109.798251   \n",
      "2010-07-12  109.535999  107.912000  108.951999  108.736002  109.094051   \n",
      "2010-07-19  109.153999  107.186000  107.908000  108.542001  108.361851   \n",
      "2010-07-26  111.660001  110.050002  110.955998  110.900000  108.356651   \n",
      "2010-08-02  112.860001  111.710001  112.198000  112.638000  108.763851   \n",
      "2010-08-09  110.966000  109.718001  110.308000  110.321999  108.911301   \n",
      "2010-08-16  109.362000  107.830000  108.616000  108.609999  109.032500   \n",
      "2010-08-23  106.970000  105.103999  106.253999  106.136002  108.499301   \n",
      "2010-08-30  108.396001  106.978000  107.498001  107.887999  108.378100   \n",
      "2010-09-06  111.162500  110.212502  110.750002  110.612501  109.040950   \n",
      "2010-09-13  113.144000  112.144000  112.634001  112.798001  109.718250   \n",
      "2010-09-20  114.462000  112.992000  113.444000  113.786000  110.223250   \n",
      "2010-09-27  115.170001  113.775999  114.739999  114.429999  110.812050   \n",
      "2010-10-04  116.178000  114.842000  115.548001  115.650000  111.287050   \n",
      "2010-10-11  117.846001  116.552000  117.348000  117.348000  111.758050   \n",
      "2010-10-18  118.515999  117.081999  117.716000  117.872000  112.513050   \n",
      "2010-10-25  118.988000  117.928001  118.493999  118.537999  113.505850   \n",
      "2010-11-01  120.951999  119.509999  120.357999  120.586000  114.950850   \n",
      "2010-11-08  122.194000  120.810002  121.722000  121.607999  116.322850   \n",
      "2010-11-15  119.995999  118.806000  119.468001  119.332001  117.194800   \n",
      "2010-11-22  119.824999  118.684999  119.205000  119.410000  117.856000   \n",
      "2010-11-29  121.114000  119.795999  120.003999  120.822000  118.559600   \n",
      "...                ...         ...         ...         ...         ...   \n",
      "2019-04-15  290.777504  289.057495  290.672501  289.900002  281.721500   \n",
      "2019-04-22  292.602002  290.706006  291.372003  292.167999  283.509100   \n",
      "2019-04-29  294.156006  291.589996  293.244000  292.981995  284.986799   \n",
      "2019-05-06  289.963995  285.435992  287.556000  288.608002  285.904799   \n",
      "2019-05-13  286.433997  282.803998  283.396002  284.571997  286.657599   \n",
      "2019-05-20  285.397998  283.285999  284.447998  284.202008  287.043000   \n",
      "2019-05-27  280.167496  277.472496  279.327499  278.179993  286.655800   \n",
      "2019-06-03  282.923993  279.667999  280.795996  282.101996  286.805999   \n",
      "2019-06-10  290.278003  288.379999  289.532001  289.020001  287.028599   \n",
      "2019-06-17  293.853998  291.706000  292.726001  292.937994  287.467199   \n",
      "2019-06-24  293.245996  291.472009  292.714001  291.874005  287.664599   \n",
      "2019-07-01  297.717506  295.509995  296.727493  297.337494  288.181548   \n",
      "2019-07-08  299.150000  297.438007  298.018005  298.515997  288.734949   \n",
      "2019-07-15  300.252002  298.210004  299.752002  298.853998  289.759548   \n",
      "2019-07-22  300.640002  298.815997  299.528003  300.276001  291.329949   \n",
      "2019-07-29  299.874005  296.079999  298.846002  297.413995  292.651147   \n",
      "2019-08-05  290.385999  285.340002  288.119995  288.965997  293.729748   \n",
      "2019-08-12  289.893994  285.047998  287.426001  287.603998  294.279948   \n",
      "2019-08-19  292.997992  289.396002  292.118005  290.415997  294.419548   \n",
      "2019-08-26  290.884003  287.777997  289.778003  289.758002  294.101548   \n",
      "2019-09-02  295.807495  293.250000  294.667511  295.162498  294.430398   \n",
      "2019-09-09  300.482001  298.394000  299.600000  299.792004  294.675849   \n",
      "2019-09-16  301.336005  299.112000  300.431995  300.308002  294.855049   \n",
      "2019-09-23  298.551996  295.109998  297.675995  296.819995  294.651649   \n",
      "2019-09-30  294.520001  290.292004  292.832001  292.567999  293.880849   \n",
      "2019-10-07  294.471997  291.691998  292.541998  292.479993  293.387449   \n",
      "2019-10-14  299.034003  297.202002  297.953998  298.096002  294.300449   \n",
      "2019-10-21  300.864001  299.097998  299.876001  300.170001  295.557049   \n",
      "2019-10-28  304.590002  302.845996  303.684003  304.023999  296.917850   \n",
      "2019-11-04  308.394000  306.883997  307.767999  307.723999  298.714449   \n",
      "\n",
      "                Corr  Open-Close  Open-Open         EMA       ROC  \n",
      "Date                                                               \n",
      "2010-05-10  0.257754    0.106000  -0.886000  116.952947  4.427139  \n",
      "2010-05-17 -0.216907   -4.636002  -4.656001  115.841785  2.197742  \n",
      "2010-05-24 -0.342284   -2.564000  -2.839998  114.499062 -0.258618  \n",
      "2010-05-31 -0.334211    0.356500   0.534500  113.458922  1.349652  \n",
      "2010-06-07 -0.125469   -1.635500  -1.710501  112.345920 -3.651272  \n",
      "2010-06-14  0.156064    3.867998   4.053999  112.184995  2.170485  \n",
      "2010-06-21  0.465325   -1.348000  -1.145998  111.620346  4.919990  \n",
      "2010-06-28  0.713365   -4.254002  -5.274002  110.224351 -1.925019  \n",
      "2010-07-05  0.768735    1.240999   0.378999  109.457432 -2.493195  \n",
      "2010-07-12  0.639903    2.926997   3.727000  109.325785  0.178733  \n",
      "2010-07-19  0.438538   -0.828001  -1.043999  109.182854 -2.126239  \n",
      "2010-07-26  0.076591    2.413997   3.047998  109.495823 -1.542997  \n",
      "2010-08-02 -0.110781    1.298000   1.242001  110.068266  2.099311  \n",
      "2010-08-09 -0.180162   -2.330000  -1.889999  110.114474  1.576282  \n",
      "2010-08-16 -0.063251   -1.705998  -1.692000  109.840569  2.330969  \n",
      "2010-08-23 -0.328067   -2.356000  -2.362001  109.166277 -1.623904  \n",
      "2010-08-30 -0.640727    1.362000   1.244002  108.933656 -2.463105  \n",
      "2010-09-06 -0.238541    2.862003   3.252001  109.239123 -1.937534  \n",
      "2010-09-13  0.517733    2.021500   1.883999  109.886578 -0.868296  \n",
      "2010-09-20  0.713256    0.645999   0.809999  110.595910 -0.562788  \n",
      "2010-09-27  0.766792    0.953999   1.295999  111.293295 -1.054908  \n",
      "2010-10-04  0.866385    1.118002   0.808002  112.085682 -1.446978  \n",
      "2010-10-11  0.960512    1.698000   1.799998  113.042723 -0.444550  \n",
      "2010-10-18  0.964992    0.368001   0.368001  113.920965 -0.561844  \n",
      "2010-10-25  0.952442    0.621999   0.777998  114.760576 -1.698374  \n",
      "2010-11-01  0.966534    1.820000   1.864000  115.819899 -0.840404  \n",
      "2010-11-08  0.973620    1.136000   1.364001  116.872407  1.907282  \n",
      "2010-11-15  0.913135   -2.139998  -2.253999  117.319650 -0.065320  \n",
      "2010-11-22  0.853594   -0.127001  -0.263001  117.699744 -1.168662  \n",
      "2010-11-29  0.837988    0.593999   0.798999  118.267464 -2.106595  \n",
      "...              ...         ...        ...         ...       ...  \n",
      "2019-04-15  0.914136    2.120499   2.188504  281.579234 -0.776265  \n",
      "2019-04-22  0.908726    1.472002   0.699503  283.504464 -0.277831  \n",
      "2019-04-29  0.941263    1.076001   1.871997  285.227652  1.515548  \n",
      "2019-05-06  0.938077   -5.425995  -5.688000  285.842261  1.418272  \n",
      "2019-05-13  0.742327   -5.212000  -4.159998  285.611304  0.130185  \n",
      "2019-05-20  0.484119   -0.123999   1.051996  285.355068  2.164791  \n",
      "2019-05-27  0.042230   -4.874509  -5.120499  284.050509 -1.390278  \n",
      "2019-06-03 -0.419772    2.616003   1.468497  283.696234 -2.393608  \n",
      "2019-06-10 -0.501405    7.430005   8.736005  284.664192 -1.337482  \n",
      "2019-06-17 -0.405939    3.706000   3.194000  286.168519  0.364537  \n",
      "2019-06-24 -0.287654   -0.223993  -0.012000  287.205880 -1.837471  \n",
      "2019-07-01  0.232400    4.853488   4.013492  289.047992 -0.394787  \n",
      "2019-07-08  0.769038    0.680511   1.290512  290.769447 -0.113099  \n",
      "2019-07-15  0.879836    1.236005   1.733997  292.239366 -0.473565  \n",
      "2019-07-22  0.823446    0.674005  -0.223999  293.700572  0.962297  \n",
      "2019-07-29  0.722526   -1.429999  -0.682001  294.375740  2.923527  \n",
      "2019-08-05  0.346212   -9.294000 -10.726007  293.392150  0.473568  \n",
      "2019-08-12 -0.167906   -1.539996  -0.693994  292.339759 -0.968266  \n",
      "2019-08-19 -0.461439    4.514008   4.692004  291.989984  0.227085  \n",
      "2019-08-26 -0.611824   -0.637994  -2.340002  291.584169 -1.831024  \n",
      "2019-09-02 -0.747418    4.909509   4.889508  292.234775 -1.544239  \n",
      "2019-09-09 -0.579112    4.437502   4.932489  293.608816 -0.171823  \n",
      "2019-09-16 -0.380102    0.639990   0.831995  294.826850  1.175125  \n",
      "2019-09-23 -0.230505   -2.632007  -2.756000  295.189240  1.453336  \n",
      "2019-09-30  0.189018   -3.987994  -4.843994  294.712651  0.030090  \n",
      "2019-10-07  0.633603   -0.026001  -0.290002  294.306713 -1.883960  \n",
      "2019-10-14  0.550846    5.474005   5.412000  294.995675 -0.690941  \n",
      "2019-10-21  0.703099    1.779999   1.922003  295.936461 -1.267662  \n",
      "2019-10-28  0.839185    3.514001   3.808002  297.406923 -1.202376  \n",
      "2019-11-04  0.933282    3.744000   4.083997  299.282755 -0.203018  \n",
      "\n",
      "[496 rows x 10 columns]\n"
     ]
    }
   ],
   "source": [
    "#3. Put vector Y in the dataframe for comparisons and check that works\n",
    "\n",
    "df1=df.dropna()\n",
    "print(df1)\n"
   ]
  },
  {
   "cell_type": "code",
   "execution_count": 17,
   "metadata": {},
   "outputs": [
    {
     "name": "stdout",
     "output_type": "stream",
     "text": [
      "                  High         Low        Open       Close         m10  \\\n",
      "Date                                                                     \n",
      "2010-05-10  116.928001  114.934001  115.884000  115.864000  117.695000   \n",
      "2010-05-17  112.355998  109.398000  111.227998  110.952000  117.298000   \n",
      "2010-05-24  109.650002  107.293999  108.388000  108.566000  116.514400   \n",
      "2010-05-31  110.169998  107.730001  108.922501  108.847500  115.717750   \n",
      "2010-06-07  108.350000  105.964001  107.212000  107.398001  114.719550   \n",
      "2010-06-14  112.020000  110.622000  111.265999  111.468001  113.976750   \n",
      "2010-06-21  110.475999  108.518001  110.120001  109.100002  112.858550   \n",
      "2010-06-28  105.523999  103.264000  104.845999  103.984000  111.173350   \n",
      "2010-07-05  106.465000  104.434999  105.224998  106.025002  109.798251   \n",
      "2010-07-12  109.535999  107.912000  108.951999  108.736002  109.094051   \n",
      "2010-07-19  109.153999  107.186000  107.908000  108.542001  108.361851   \n",
      "2010-07-26  111.660001  110.050002  110.955998  110.900000  108.356651   \n",
      "2010-08-02  112.860001  111.710001  112.198000  112.638000  108.763851   \n",
      "2010-08-09  110.966000  109.718001  110.308000  110.321999  108.911301   \n",
      "2010-08-16  109.362000  107.830000  108.616000  108.609999  109.032500   \n",
      "2010-08-23  106.970000  105.103999  106.253999  106.136002  108.499301   \n",
      "2010-08-30  108.396001  106.978000  107.498001  107.887999  108.378100   \n",
      "2010-09-06  111.162500  110.212502  110.750002  110.612501  109.040950   \n",
      "2010-09-13  113.144000  112.144000  112.634001  112.798001  109.718250   \n",
      "2010-09-20  114.462000  112.992000  113.444000  113.786000  110.223250   \n",
      "2010-09-27  115.170001  113.775999  114.739999  114.429999  110.812050   \n",
      "2010-10-04  116.178000  114.842000  115.548001  115.650000  111.287050   \n",
      "2010-10-11  117.846001  116.552000  117.348000  117.348000  111.758050   \n",
      "2010-10-18  118.515999  117.081999  117.716000  117.872000  112.513050   \n",
      "2010-10-25  118.988000  117.928001  118.493999  118.537999  113.505850   \n",
      "2010-11-01  120.951999  119.509999  120.357999  120.586000  114.950850   \n",
      "2010-11-08  122.194000  120.810002  121.722000  121.607999  116.322850   \n",
      "2010-11-15  119.995999  118.806000  119.468001  119.332001  117.194800   \n",
      "2010-11-22  119.824999  118.684999  119.205000  119.410000  117.856000   \n",
      "2010-11-29  121.114000  119.795999  120.003999  120.822000  118.559600   \n",
      "...                ...         ...         ...         ...         ...   \n",
      "2019-04-15  290.777504  289.057495  290.672501  289.900002  281.721500   \n",
      "2019-04-22  292.602002  290.706006  291.372003  292.167999  283.509100   \n",
      "2019-04-29  294.156006  291.589996  293.244000  292.981995  284.986799   \n",
      "2019-05-06  289.963995  285.435992  287.556000  288.608002  285.904799   \n",
      "2019-05-13  286.433997  282.803998  283.396002  284.571997  286.657599   \n",
      "2019-05-20  285.397998  283.285999  284.447998  284.202008  287.043000   \n",
      "2019-05-27  280.167496  277.472496  279.327499  278.179993  286.655800   \n",
      "2019-06-03  282.923993  279.667999  280.795996  282.101996  286.805999   \n",
      "2019-06-10  290.278003  288.379999  289.532001  289.020001  287.028599   \n",
      "2019-06-17  293.853998  291.706000  292.726001  292.937994  287.467199   \n",
      "2019-06-24  293.245996  291.472009  292.714001  291.874005  287.664599   \n",
      "2019-07-01  297.717506  295.509995  296.727493  297.337494  288.181548   \n",
      "2019-07-08  299.150000  297.438007  298.018005  298.515997  288.734949   \n",
      "2019-07-15  300.252002  298.210004  299.752002  298.853998  289.759548   \n",
      "2019-07-22  300.640002  298.815997  299.528003  300.276001  291.329949   \n",
      "2019-07-29  299.874005  296.079999  298.846002  297.413995  292.651147   \n",
      "2019-08-05  290.385999  285.340002  288.119995  288.965997  293.729748   \n",
      "2019-08-12  289.893994  285.047998  287.426001  287.603998  294.279948   \n",
      "2019-08-19  292.997992  289.396002  292.118005  290.415997  294.419548   \n",
      "2019-08-26  290.884003  287.777997  289.778003  289.758002  294.101548   \n",
      "2019-09-02  295.807495  293.250000  294.667511  295.162498  294.430398   \n",
      "2019-09-09  300.482001  298.394000  299.600000  299.792004  294.675849   \n",
      "2019-09-16  301.336005  299.112000  300.431995  300.308002  294.855049   \n",
      "2019-09-23  298.551996  295.109998  297.675995  296.819995  294.651649   \n",
      "2019-09-30  294.520001  290.292004  292.832001  292.567999  293.880849   \n",
      "2019-10-07  294.471997  291.691998  292.541998  292.479993  293.387449   \n",
      "2019-10-14  299.034003  297.202002  297.953998  298.096002  294.300449   \n",
      "2019-10-21  300.864001  299.097998  299.876001  300.170001  295.557049   \n",
      "2019-10-28  304.590002  302.845996  303.684003  304.023999  296.917850   \n",
      "2019-11-04  308.394000  306.883997  307.767999  307.723999  298.714449   \n",
      "\n",
      "                Corr  Open-Close  Open-Open         EMA       ROC  \n",
      "Date                                                               \n",
      "2010-05-10  0.257754    0.106000  -0.886000  116.952947  4.427139  \n",
      "2010-05-17 -0.216907   -4.636002  -4.656001  115.841785  2.197742  \n",
      "2010-05-24 -0.342284   -2.564000  -2.839998  114.499062 -0.258618  \n",
      "2010-05-31 -0.334211    0.356500   0.534500  113.458922  1.349652  \n",
      "2010-06-07 -0.125469   -1.635500  -1.710501  112.345920 -3.651272  \n",
      "2010-06-14  0.156064    3.867998   4.053999  112.184995  2.170485  \n",
      "2010-06-21  0.465325   -1.348000  -1.145998  111.620346  4.919990  \n",
      "2010-06-28  0.713365   -4.254002  -5.274002  110.224351 -1.925019  \n",
      "2010-07-05  0.768735    1.240999   0.378999  109.457432 -2.493195  \n",
      "2010-07-12  0.639903    2.926997   3.727000  109.325785  0.178733  \n",
      "2010-07-19  0.438538   -0.828001  -1.043999  109.182854 -2.126239  \n",
      "2010-07-26  0.076591    2.413997   3.047998  109.495823 -1.542997  \n",
      "2010-08-02 -0.110781    1.298000   1.242001  110.068266  2.099311  \n",
      "2010-08-09 -0.180162   -2.330000  -1.889999  110.114474  1.576282  \n",
      "2010-08-16 -0.063251   -1.705998  -1.692000  109.840569  2.330969  \n",
      "2010-08-23 -0.328067   -2.356000  -2.362001  109.166277 -1.623904  \n",
      "2010-08-30 -0.640727    1.362000   1.244002  108.933656 -2.463105  \n",
      "2010-09-06 -0.238541    2.862003   3.252001  109.239123 -1.937534  \n",
      "2010-09-13  0.517733    2.021500   1.883999  109.886578 -0.868296  \n",
      "2010-09-20  0.713256    0.645999   0.809999  110.595910 -0.562788  \n",
      "2010-09-27  0.766792    0.953999   1.295999  111.293295 -1.054908  \n",
      "2010-10-04  0.866385    1.118002   0.808002  112.085682 -1.446978  \n",
      "2010-10-11  0.960512    1.698000   1.799998  113.042723 -0.444550  \n",
      "2010-10-18  0.964992    0.368001   0.368001  113.920965 -0.561844  \n",
      "2010-10-25  0.952442    0.621999   0.777998  114.760576 -1.698374  \n",
      "2010-11-01  0.966534    1.820000   1.864000  115.819899 -0.840404  \n",
      "2010-11-08  0.973620    1.136000   1.364001  116.872407  1.907282  \n",
      "2010-11-15  0.913135   -2.139998  -2.253999  117.319650 -0.065320  \n",
      "2010-11-22  0.853594   -0.127001  -0.263001  117.699744 -1.168662  \n",
      "2010-11-29  0.837988    0.593999   0.798999  118.267464 -2.106595  \n",
      "...              ...         ...        ...         ...       ...  \n",
      "2019-04-15  0.914136    2.120499   2.188504  281.579234 -0.776265  \n",
      "2019-04-22  0.908726    1.472002   0.699503  283.504464 -0.277831  \n",
      "2019-04-29  0.941263    1.076001   1.871997  285.227652  1.515548  \n",
      "2019-05-06  0.938077   -5.425995  -5.688000  285.842261  1.418272  \n",
      "2019-05-13  0.742327   -5.212000  -4.159998  285.611304  0.130185  \n",
      "2019-05-20  0.484119   -0.123999   1.051996  285.355068  2.164791  \n",
      "2019-05-27  0.042230   -4.874509  -5.120499  284.050509 -1.390278  \n",
      "2019-06-03 -0.419772    2.616003   1.468497  283.696234 -2.393608  \n",
      "2019-06-10 -0.501405    7.430005   8.736005  284.664192 -1.337482  \n",
      "2019-06-17 -0.405939    3.706000   3.194000  286.168519  0.364537  \n",
      "2019-06-24 -0.287654   -0.223993  -0.012000  287.205880 -1.837471  \n",
      "2019-07-01  0.232400    4.853488   4.013492  289.047992 -0.394787  \n",
      "2019-07-08  0.769038    0.680511   1.290512  290.769447 -0.113099  \n",
      "2019-07-15  0.879836    1.236005   1.733997  292.239366 -0.473565  \n",
      "2019-07-22  0.823446    0.674005  -0.223999  293.700572  0.962297  \n",
      "2019-07-29  0.722526   -1.429999  -0.682001  294.375740  2.923527  \n",
      "2019-08-05  0.346212   -9.294000 -10.726007  293.392150  0.473568  \n",
      "2019-08-12 -0.167906   -1.539996  -0.693994  292.339759 -0.968266  \n",
      "2019-08-19 -0.461439    4.514008   4.692004  291.989984  0.227085  \n",
      "2019-08-26 -0.611824   -0.637994  -2.340002  291.584169 -1.831024  \n",
      "2019-09-02 -0.747418    4.909509   4.889508  292.234775 -1.544239  \n",
      "2019-09-09 -0.579112    4.437502   4.932489  293.608816 -0.171823  \n",
      "2019-09-16 -0.380102    0.639990   0.831995  294.826850  1.175125  \n",
      "2019-09-23 -0.230505   -2.632007  -2.756000  295.189240  1.453336  \n",
      "2019-09-30  0.189018   -3.987994  -4.843994  294.712651  0.030090  \n",
      "2019-10-07  0.633603   -0.026001  -0.290002  294.306713 -1.883960  \n",
      "2019-10-14  0.550846    5.474005   5.412000  294.995675 -0.690941  \n",
      "2019-10-21  0.703099    1.779999   1.922003  295.936461 -1.267662  \n",
      "2019-10-28  0.839185    3.514001   3.808002  297.406923 -1.202376  \n",
      "2019-11-04  0.933282    3.744000   4.083997  299.282755 -0.203018  \n",
      "\n",
      "[496 rows x 10 columns]\n"
     ]
    }
   ],
   "source": [
    "print(X)"
   ]
  },
  {
   "cell_type": "markdown",
   "metadata": {},
   "source": [
    "### 3.1 Include Y in df"
   ]
  },
  {
   "cell_type": "code",
   "execution_count": null,
   "metadata": {},
   "outputs": [],
   "source": []
  },
  {
   "cell_type": "code",
   "execution_count": 18,
   "metadata": {},
   "outputs": [
    {
     "name": "stdout",
     "output_type": "stream",
     "text": [
      "[-1 -1  1 -1  1 -1 -1  1  1 -1  1  1 -1 -1 -1  1  1  1  1  1  1  1  1  1\n",
      "  1  1 -1  1  1  1  1  1  1  1  1  1  1  1  1  1 -1  1 -1 -1  1  1  1 -1\n",
      "  1  1 -1 -1 -1 -1 -1 -1 -1  1  1  1 -1  1 -1 -1 -1  1 -1  1 -1  1 -1 -1\n",
      " -1  1  1  1 -1  1 -1 -1  1  1 -1  1  1  1  1  1  1  1  1  1  1  1 -1  1\n",
      "  1  1 -1 -1  1  1  1 -1 -1  1 -1 -1  1  1 -1  1 -1  1 -1  1  1  1  1 -1\n",
      "  1  1  1 -1  1 -1  1 -1  1 -1 -1  1  1  1  1  1 -1  1  1  1  1  1  1  1\n",
      " -1 -1  1  1 -1  1 -1  1 -1  1  1  1  1  1 -1 -1  1 -1 -1  1  1  1  1  1\n",
      "  1 -1 -1 -1  1  1  1 -1 -1 -1  1  1  1  1  1  1  1 -1 -1  1  1  1 -1  1\n",
      " -1 -1 -1  1  1  1  1 -1  1 -1  1 -1  1  1  1 -1  1  1  1  1  1  1 -1  1\n",
      " -1  1  1 -1 -1  1  1  1  1 -1  1 -1 -1 -1 -1  1  1  1  1  1  1 -1 -1 -1\n",
      "  1 -1 -1 -1  1 -1  1  1  1  1 -1 -1  1 -1 -1  1  1  1 -1 -1  1  1 -1 -1\n",
      " -1  1  1 -1 -1  1 -1 -1 -1  1 -1 -1  1  1  1 -1 -1  1  1  1  1  1 -1  1\n",
      "  1 -1 -1 -1  1  1 -1 -1 -1  1  1 -1  1  1  1  1  1  1  1 -1  1  1 -1 -1\n",
      "  1 -1  1  1  1 -1 -1 -1  1  1  1  1 -1  1  1 -1 -1 -1 -1  1  1 -1 -1 -1\n",
      "  1 -1  1  1  1 -1  1  1 -1 -1  1  1 -1  1 -1  1  1  1  1 -1  1 -1  1 -1\n",
      " -1  1  1  1  1 -1  1  1  1  1 -1 -1 -1  1  1  1  1 -1 -1 -1  1  1  1 -1\n",
      "  1  1  1  1  1  1  1 -1  1  1  1  1  1 -1  1  1  1  1 -1 -1  1  1  1  1\n",
      "  1 -1 -1 -1  1  1 -1 -1  1  1  1 -1  1  1 -1 -1  1  1  1  1 -1  1 -1  1\n",
      "  1 -1  1  1 -1 -1 -1 -1 -1 -1  1 -1 -1  1 -1 -1 -1 -1  1  1  1  1  1  1\n",
      "  1  1  1 -1  1  1 -1  1  1  1  1  1 -1 -1 -1 -1  1  1  1 -1  1  1  1  1\n",
      " -1 -1 -1  1 -1  1  1  1 -1 -1 -1  1  1  1  1 -1]\n"
     ]
    }
   ],
   "source": [
    "Y = np.where (df1['Close'].shift(-1) > df1['Close'],1,-1)\n",
    "\n",
    "print(Y)"
   ]
  },
  {
   "cell_type": "code",
   "execution_count": null,
   "metadata": {},
   "outputs": [],
   "source": []
  },
  {
   "cell_type": "code",
   "execution_count": null,
   "metadata": {},
   "outputs": [],
   "source": []
  },
  {
   "cell_type": "code",
   "execution_count": 19,
   "metadata": {},
   "outputs": [
    {
     "data": {
      "text/plain": [
       "496"
      ]
     },
     "execution_count": 19,
     "metadata": {},
     "output_type": "execute_result"
    }
   ],
   "source": [
    "len(Y)"
   ]
  },
  {
   "cell_type": "code",
   "execution_count": null,
   "metadata": {},
   "outputs": [],
   "source": []
  },
  {
   "cell_type": "markdown",
   "metadata": {},
   "source": [
    "# 4. SPLITTING THE DATASET\n",
    "\n",
    "Train: Learn from the data to generate predictions\n",
    "\n",
    "Test: Test learning on new unseen data \n",
    "\n",
    "\n"
   ]
  },
  {
   "cell_type": "code",
   "execution_count": 20,
   "metadata": {},
   "outputs": [],
   "source": [
    "split = int(0.7*len(df1))\n",
    "\n",
    "X_train, X_test, Y_train, Y_test = X[:split], X[split:], Y[:split], Y[split:]"
   ]
  },
  {
   "cell_type": "code",
   "execution_count": 21,
   "metadata": {},
   "outputs": [
    {
     "name": "stdout",
     "output_type": "stream",
     "text": [
      "<class 'pandas.core.frame.DataFrame'>\n",
      "DatetimeIndex: 515 entries, 2010-01-04 to 2019-11-11\n",
      "Freq: 7D\n",
      "Data columns (total 10 columns):\n",
      "High          515 non-null float64\n",
      "Low           515 non-null float64\n",
      "Open          515 non-null float64\n",
      "Close         515 non-null float64\n",
      "m10           506 non-null float64\n",
      "Corr          497 non-null float64\n",
      "Open-Close    514 non-null float64\n",
      "Open-Open     514 non-null float64\n",
      "EMA           515 non-null float64\n",
      "ROC           514 non-null float64\n",
      "dtypes: float64(10)\n",
      "memory usage: 44.3 KB\n"
     ]
    }
   ],
   "source": [
    "df.info()"
   ]
  },
  {
   "cell_type": "code",
   "execution_count": 22,
   "metadata": {},
   "outputs": [
    {
     "name": "stdout",
     "output_type": "stream",
     "text": [
      "<class 'pandas.core.frame.DataFrame'>\n",
      "DatetimeIndex: 496 entries, 2010-05-10 to 2019-11-04\n",
      "Freq: 7D\n",
      "Data columns (total 10 columns):\n",
      "High          496 non-null float64\n",
      "Low           496 non-null float64\n",
      "Open          496 non-null float64\n",
      "Close         496 non-null float64\n",
      "m10           496 non-null float64\n",
      "Corr          496 non-null float64\n",
      "Open-Close    496 non-null float64\n",
      "Open-Open     496 non-null float64\n",
      "EMA           496 non-null float64\n",
      "ROC           496 non-null float64\n",
      "dtypes: float64(10)\n",
      "memory usage: 42.6 KB\n"
     ]
    }
   ],
   "source": [
    "df1.info()"
   ]
  },
  {
   "cell_type": "markdown",
   "metadata": {},
   "source": [
    "### 4.1 Checking the sample"
   ]
  },
  {
   "cell_type": "code",
   "execution_count": 23,
   "metadata": {},
   "outputs": [
    {
     "name": "stdout",
     "output_type": "stream",
     "text": [
      "[347, 347, 149, 149]\n"
     ]
    }
   ],
   "source": [
    "length=[]\n",
    "\n",
    "length.append(len(X_train))\n",
    "length.append(len(Y_train))\n",
    "length.append(len(X_test))\n",
    "length.append(len(Y_test))\n",
    "\n",
    "print(length)"
   ]
  },
  {
   "cell_type": "code",
   "execution_count": 24,
   "metadata": {},
   "outputs": [
    {
     "name": "stdout",
     "output_type": "stream",
     "text": [
      "                  High         Low        Open       Close         m10  \\\n",
      "Date                                                                     \n",
      "2017-01-02  226.727501  225.217499  225.864998  226.357502  221.140250   \n",
      "2017-01-09  227.154001  225.934000  226.595999  226.720004  222.799650   \n",
      "2017-01-16  226.972500  225.770000  226.597496  226.412502  223.901301   \n",
      "2017-01-23  228.752002  227.563998  228.131998  228.324002  224.929101   \n",
      "2017-01-30  228.408002  226.990005  227.823999  227.962000  225.651551   \n",
      "2017-02-06  230.220001  229.085999  229.486002  229.844000  226.615551   \n",
      "2017-02-13  234.434003  233.076001  233.397998  234.239999  227.660351   \n",
      "2017-02-20  236.729996  235.577499  235.970005  236.487503  228.674302   \n",
      "2017-02-27  238.552002  237.336002  237.885999  238.010001  229.899501   \n",
      "2017-03-06  237.758002  236.499997  237.373999  237.164001  231.152151   \n",
      "2017-03-13  238.342001  237.170001  237.843997  237.833997  232.299801   \n",
      "2017-03-20  235.991998  233.902005  235.386002  234.534000  233.081200   \n",
      "2017-03-27  235.713998  234.085999  234.312000  235.301999  233.970150   \n",
      "2017-04-03  236.207999  234.415997  235.429999  235.245999  234.662350   \n",
      "2017-04-10  235.222500  233.587498  234.660000  234.234997  235.289650   \n",
      "2017-04-17  235.034003  233.410001  234.150000  234.362000  235.741450   \n",
      "2017-04-24  238.753998  237.325998  238.253998  238.160001  236.133450   \n",
      "2017-05-01  239.134000  238.131998  238.862000  238.877997  236.372499   \n",
      "2017-05-08  239.795999  238.831998  239.508002  239.466000  236.518099   \n",
      "2017-05-15  239.604001  237.506000  238.650000  238.256003  236.627299   \n",
      "2017-05-22  240.932001  240.134000  240.381998  240.730002  236.916900   \n",
      "2017-05-29  242.850002  241.630001  242.142498  242.617500  237.725250   \n",
      "2017-06-05  244.307999  242.965997  243.754001  243.610004  238.556050   \n",
      "2017-06-12  243.928000  242.648001  243.484000  243.712003  239.402651   \n",
      "2017-06-19  243.923996  242.798001  243.434003  243.317999  240.310951   \n",
      "2017-06-26  243.582004  241.626001  243.075998  242.252002  241.099951   \n",
      "2017-07-03  242.674999  241.202499  242.152504  241.910004  241.474951   \n",
      "2017-07-10  244.014001  242.795999  243.244000  243.709998  241.958151   \n",
      "2017-07-17  246.592001  245.731998  246.054001  246.432004  242.654752   \n",
      "2017-07-24  247.525998  246.476001  247.365997  247.156000  243.544751   \n",
      "...                ...         ...         ...         ...         ...   \n",
      "2019-04-15  290.777504  289.057495  290.672501  289.900002  281.721500   \n",
      "2019-04-22  292.602002  290.706006  291.372003  292.167999  283.509100   \n",
      "2019-04-29  294.156006  291.589996  293.244000  292.981995  284.986799   \n",
      "2019-05-06  289.963995  285.435992  287.556000  288.608002  285.904799   \n",
      "2019-05-13  286.433997  282.803998  283.396002  284.571997  286.657599   \n",
      "2019-05-20  285.397998  283.285999  284.447998  284.202008  287.043000   \n",
      "2019-05-27  280.167496  277.472496  279.327499  278.179993  286.655800   \n",
      "2019-06-03  282.923993  279.667999  280.795996  282.101996  286.805999   \n",
      "2019-06-10  290.278003  288.379999  289.532001  289.020001  287.028599   \n",
      "2019-06-17  293.853998  291.706000  292.726001  292.937994  287.467199   \n",
      "2019-06-24  293.245996  291.472009  292.714001  291.874005  287.664599   \n",
      "2019-07-01  297.717506  295.509995  296.727493  297.337494  288.181548   \n",
      "2019-07-08  299.150000  297.438007  298.018005  298.515997  288.734949   \n",
      "2019-07-15  300.252002  298.210004  299.752002  298.853998  289.759548   \n",
      "2019-07-22  300.640002  298.815997  299.528003  300.276001  291.329949   \n",
      "2019-07-29  299.874005  296.079999  298.846002  297.413995  292.651147   \n",
      "2019-08-05  290.385999  285.340002  288.119995  288.965997  293.729748   \n",
      "2019-08-12  289.893994  285.047998  287.426001  287.603998  294.279948   \n",
      "2019-08-19  292.997992  289.396002  292.118005  290.415997  294.419548   \n",
      "2019-08-26  290.884003  287.777997  289.778003  289.758002  294.101548   \n",
      "2019-09-02  295.807495  293.250000  294.667511  295.162498  294.430398   \n",
      "2019-09-09  300.482001  298.394000  299.600000  299.792004  294.675849   \n",
      "2019-09-16  301.336005  299.112000  300.431995  300.308002  294.855049   \n",
      "2019-09-23  298.551996  295.109998  297.675995  296.819995  294.651649   \n",
      "2019-09-30  294.520001  290.292004  292.832001  292.567999  293.880849   \n",
      "2019-10-07  294.471997  291.691998  292.541998  292.479993  293.387449   \n",
      "2019-10-14  299.034003  297.202002  297.953998  298.096002  294.300449   \n",
      "2019-10-21  300.864001  299.097998  299.876001  300.170001  295.557049   \n",
      "2019-10-28  304.590002  302.845996  303.684003  304.023999  296.917850   \n",
      "2019-11-04  308.394000  306.883997  307.767999  307.723999  298.714449   \n",
      "\n",
      "                Corr  Open-Close  Open-Open         EMA       ROC  \n",
      "Date                                                               \n",
      "2017-01-02  0.784302    1.227497   0.414997  222.279833 -0.159890  \n",
      "2017-01-09  0.839623    0.238497   0.731001  223.087137  0.135815  \n",
      "2017-01-16  0.824703   -0.122508   0.001497  223.691749 -0.837187  \n",
      "2017-01-23  0.838846    1.719495   1.534502  224.533976  0.158800  \n",
      "2017-01-30  0.818009   -0.500003  -0.307999  225.157253 -0.818817  \n",
      "2017-02-06  0.863942    1.524002   1.662003  226.009389 -1.876707  \n",
      "2017-02-13  0.787992    3.553998   3.911996  227.505864 -0.950369  \n",
      "2017-02-20  0.864313    1.730006   2.572007  229.138889 -0.639678  \n",
      "2017-02-27  0.920951    1.398495   1.915993  230.751818  0.356715  \n",
      "2017-03-06  0.933725   -0.636002  -0.512000  231.917670 -0.281707  \n",
      "2017-03-13  0.947391    0.679996   0.469998  232.993366  1.407044  \n",
      "2017-03-20  0.858855   -2.447995  -2.457996  233.273481 -0.326389  \n",
      "2017-03-27  0.755317   -0.222000  -1.074002  233.642302  0.023805  \n",
      "2017-04-03  0.619656    0.128000   1.117999  233.933884  0.431619  \n",
      "2017-04-10  0.291617   -0.585999  -0.769999  233.988631 -0.054191  \n",
      "2017-04-17 -0.390346   -0.084997  -0.510000  234.056517 -1.594727  \n",
      "2017-04-24 -0.433373    3.891998   4.103998  234.802605 -0.300570  \n",
      "2017-05-01 -0.194769    0.701999   0.608002  235.543585 -0.245548  \n",
      "2017-05-08  0.203265    0.630005   0.646002  236.256751  0.507856  \n",
      "2017-05-15  0.423710   -0.816000  -0.858002  236.620252 -1.027707  \n",
      "2017-05-22  0.779561    2.125995   1.731998  237.367479 -0.777973  \n",
      "2017-05-29  0.858314    1.412496   1.760500  238.322028 -0.407415  \n",
      "2017-06-05  0.933955    1.136501   1.611503  239.283478 -0.041852  \n",
      "2017-06-12  0.925133   -0.126004  -0.270001  240.088665  0.161929  \n",
      "2017-06-19  0.866160   -0.278000  -0.049997  240.675816  0.440037  \n",
      "2017-06-26  0.801830   -0.242001  -0.358005  240.962396  0.141374  \n",
      "2017-07-03  0.688646   -0.099498  -0.923494  241.134688 -0.738580  \n",
      "2017-07-10  0.675079    1.333997   1.091496  241.602926 -1.104567  \n",
      "2017-07-17  0.709782    2.344003   2.810001  242.480940 -0.292931  \n",
      "2017-07-24  0.714567    0.933994   1.311996  243.330951 -0.009712  \n",
      "...              ...         ...        ...         ...       ...  \n",
      "2019-04-15  0.914136    2.120499   2.188504  281.579234 -0.776265  \n",
      "2019-04-22  0.908726    1.472002   0.699503  283.504464 -0.277831  \n",
      "2019-04-29  0.941263    1.076001   1.871997  285.227652  1.515548  \n",
      "2019-05-06  0.938077   -5.425995  -5.688000  285.842261  1.418272  \n",
      "2019-05-13  0.742327   -5.212000  -4.159998  285.611304  0.130185  \n",
      "2019-05-20  0.484119   -0.123999   1.051996  285.355068  2.164791  \n",
      "2019-05-27  0.042230   -4.874509  -5.120499  284.050509 -1.390278  \n",
      "2019-06-03 -0.419772    2.616003   1.468497  283.696234 -2.393608  \n",
      "2019-06-10 -0.501405    7.430005   8.736005  284.664192 -1.337482  \n",
      "2019-06-17 -0.405939    3.706000   3.194000  286.168519  0.364537  \n",
      "2019-06-24 -0.287654   -0.223993  -0.012000  287.205880 -1.837471  \n",
      "2019-07-01  0.232400    4.853488   4.013492  289.047992 -0.394787  \n",
      "2019-07-08  0.769038    0.680511   1.290512  290.769447 -0.113099  \n",
      "2019-07-15  0.879836    1.236005   1.733997  292.239366 -0.473565  \n",
      "2019-07-22  0.823446    0.674005  -0.223999  293.700572  0.962297  \n",
      "2019-07-29  0.722526   -1.429999  -0.682001  294.375740  2.923527  \n",
      "2019-08-05  0.346212   -9.294000 -10.726007  293.392150  0.473568  \n",
      "2019-08-12 -0.167906   -1.539996  -0.693994  292.339759 -0.968266  \n",
      "2019-08-19 -0.461439    4.514008   4.692004  291.989984  0.227085  \n",
      "2019-08-26 -0.611824   -0.637994  -2.340002  291.584169 -1.831024  \n",
      "2019-09-02 -0.747418    4.909509   4.889508  292.234775 -1.544239  \n",
      "2019-09-09 -0.579112    4.437502   4.932489  293.608816 -0.171823  \n",
      "2019-09-16 -0.380102    0.639990   0.831995  294.826850  1.175125  \n",
      "2019-09-23 -0.230505   -2.632007  -2.756000  295.189240  1.453336  \n",
      "2019-09-30  0.189018   -3.987994  -4.843994  294.712651  0.030090  \n",
      "2019-10-07  0.633603   -0.026001  -0.290002  294.306713 -1.883960  \n",
      "2019-10-14  0.550846    5.474005   5.412000  294.995675 -0.690941  \n",
      "2019-10-21  0.703099    1.779999   1.922003  295.936461 -1.267662  \n",
      "2019-10-28  0.839185    3.514001   3.808002  297.406923 -1.202376  \n",
      "2019-11-04  0.933282    3.744000   4.083997  299.282755 -0.203018  \n",
      "\n",
      "[149 rows x 10 columns]\n"
     ]
    }
   ],
   "source": [
    "print(X_test)"
   ]
  },
  {
   "cell_type": "markdown",
   "metadata": {},
   "source": [
    "# 5. THE MODEL\n",
    "\n"
   ]
  },
  {
   "cell_type": "markdown",
   "metadata": {},
   "source": [
    "### 5.1 Creating the model"
   ]
  },
  {
   "cell_type": "code",
   "execution_count": 25,
   "metadata": {},
   "outputs": [
    {
     "name": "stderr",
     "output_type": "stream",
     "text": [
      "/Users/inigo/anaconda3/lib/python3.7/site-packages/sklearn/linear_model/logistic.py:432: FutureWarning: Default solver will be changed to 'lbfgs' in 0.22. Specify a solver to silence this warning.\n",
      "  FutureWarning)\n"
     ]
    }
   ],
   "source": [
    "model = LogisticRegression()\n",
    "\n",
    "modell = model.fit (X_train,Y_train)\n"
   ]
  },
  {
   "cell_type": "code",
   "execution_count": null,
   "metadata": {},
   "outputs": [],
   "source": []
  },
  {
   "cell_type": "markdown",
   "metadata": {},
   "source": [
    "### 5.2 Estimation of coeficients\n",
    "\n",
    "Interpretation: (-1,22) For every 1$ of increase in the Opening price in T, the fact of having the Closing of T+1 > closing of T is LESS probable"
   ]
  },
  {
   "cell_type": "code",
   "execution_count": 26,
   "metadata": {},
   "outputs": [
    {
     "data": {
      "text/html": [
       "<div>\n",
       "<style scoped>\n",
       "    .dataframe tbody tr th:only-of-type {\n",
       "        vertical-align: middle;\n",
       "    }\n",
       "\n",
       "    .dataframe tbody tr th {\n",
       "        vertical-align: top;\n",
       "    }\n",
       "\n",
       "    .dataframe thead th {\n",
       "        text-align: right;\n",
       "    }\n",
       "</style>\n",
       "<table border=\"1\" class=\"dataframe\">\n",
       "  <thead>\n",
       "    <tr style=\"text-align: right;\">\n",
       "      <th></th>\n",
       "      <th>0</th>\n",
       "      <th>1</th>\n",
       "    </tr>\n",
       "  </thead>\n",
       "  <tbody>\n",
       "    <tr>\n",
       "      <th>0</th>\n",
       "      <td>High</td>\n",
       "      <td>[0.053173176815418756]</td>\n",
       "    </tr>\n",
       "    <tr>\n",
       "      <th>1</th>\n",
       "      <td>Low</td>\n",
       "      <td>[-0.3332404249133414]</td>\n",
       "    </tr>\n",
       "    <tr>\n",
       "      <th>2</th>\n",
       "      <td>Open</td>\n",
       "      <td>[0.04383128171207462]</td>\n",
       "    </tr>\n",
       "    <tr>\n",
       "      <th>3</th>\n",
       "      <td>Close</td>\n",
       "      <td>[0.25903318565329453]</td>\n",
       "    </tr>\n",
       "    <tr>\n",
       "      <th>4</th>\n",
       "      <td>m10</td>\n",
       "      <td>[0.18097599230207512]</td>\n",
       "    </tr>\n",
       "    <tr>\n",
       "      <th>5</th>\n",
       "      <td>Corr</td>\n",
       "      <td>[0.05996377569344978]</td>\n",
       "    </tr>\n",
       "    <tr>\n",
       "      <th>6</th>\n",
       "      <td>Open-Close</td>\n",
       "      <td>[0.019646014951708913]</td>\n",
       "    </tr>\n",
       "    <tr>\n",
       "      <th>7</th>\n",
       "      <td>Open-Open</td>\n",
       "      <td>[-0.04442237670006952]</td>\n",
       "    </tr>\n",
       "    <tr>\n",
       "      <th>8</th>\n",
       "      <td>EMA</td>\n",
       "      <td>[-0.20794146712089473]</td>\n",
       "    </tr>\n",
       "    <tr>\n",
       "      <th>9</th>\n",
       "      <td>ROC</td>\n",
       "      <td>[-5.0959795674537105]</td>\n",
       "    </tr>\n",
       "  </tbody>\n",
       "</table>\n",
       "</div>"
      ],
      "text/plain": [
       "            0                       1\n",
       "0        High  [0.053173176815418756]\n",
       "1         Low   [-0.3332404249133414]\n",
       "2        Open   [0.04383128171207462]\n",
       "3       Close   [0.25903318565329453]\n",
       "4         m10   [0.18097599230207512]\n",
       "5        Corr   [0.05996377569344978]\n",
       "6  Open-Close  [0.019646014951708913]\n",
       "7   Open-Open  [-0.04442237670006952]\n",
       "8         EMA  [-0.20794146712089473]\n",
       "9         ROC   [-5.0959795674537105]"
      ]
     },
     "execution_count": 26,
     "metadata": {},
     "output_type": "execute_result"
    }
   ],
   "source": [
    "pd.DataFrame(zip(X.columns, np.transpose(model.coef_)))"
   ]
  },
  {
   "cell_type": "code",
   "execution_count": 27,
   "metadata": {},
   "outputs": [
    {
     "name": "stdout",
     "output_type": "stream",
     "text": [
      "Parameters: [[ 0.05317318 -0.33324042  0.04383128  0.25903319  0.18097599  0.05996378\n",
      "   0.01964601 -0.04442238 -0.20794147 -5.09597957]] [0.46006614]\n"
     ]
    }
   ],
   "source": [
    "print(\"Parameters:\", model.coef_, model.intercept_)\n"
   ]
  },
  {
   "cell_type": "markdown",
   "metadata": {},
   "source": [
    "### 5.3 Predicting class probabilities of the model:\n",
    "[0,2 . 0,8] would mean that the model estimates that in the sample in X_test has a 80% of probability that the closing of the next day would be higher than the closing of that day\n",
    "\n"
   ]
  },
  {
   "cell_type": "code",
   "execution_count": 28,
   "metadata": {},
   "outputs": [
    {
     "name": "stdout",
     "output_type": "stream",
     "text": [
      "[[3.39447594e-01 6.60552406e-01]\n",
      " [6.96144957e-01 3.03855043e-01]\n",
      " [1.48781283e-02 9.85121872e-01]\n",
      " [6.99234703e-01 3.00765297e-01]\n",
      " [1.41735017e-02 9.85826498e-01]\n",
      " [7.16535238e-05 9.99928346e-01]\n",
      " [7.83805312e-03 9.92161947e-01]\n",
      " [4.25654949e-02 9.57434505e-01]\n",
      " [8.87233245e-01 1.12766755e-01]\n",
      " [2.24730257e-01 7.75269743e-01]\n",
      " [9.99388224e-01 6.11775559e-04]\n",
      " [1.70370321e-01 8.29629679e-01]\n",
      " [5.16388987e-01 4.83611013e-01]\n",
      " [9.02647019e-01 9.73529814e-02]\n",
      " [4.18470409e-01 5.81529591e-01]\n",
      " [2.57479285e-04 9.99742521e-01]\n",
      " [1.80608028e-01 8.19391972e-01]\n",
      " [2.32864328e-01 7.67135672e-01]\n",
      " [9.40796425e-01 5.92035751e-02]\n",
      " [5.84747405e-03 9.94152526e-01]\n",
      " [2.56812620e-02 9.74318738e-01]\n",
      " [1.35356097e-01 8.64643903e-01]\n",
      " [5.23054941e-01 4.76945059e-01]\n",
      " [7.28370445e-01 2.71629555e-01]\n",
      " [9.26358832e-01 7.36411683e-02]\n",
      " [6.97579305e-01 3.02420695e-01]\n",
      " [2.49543099e-02 9.75045690e-01]\n",
      " [4.01898785e-03 9.95981012e-01]\n",
      " [2.22244165e-01 7.77755835e-01]\n",
      " [5.30068481e-01 4.69931519e-01]\n",
      " [9.26861206e-01 7.31387936e-02]\n",
      " [8.85253631e-01 1.14746369e-01]\n",
      " [8.82252747e-01 1.17747253e-01]\n",
      " [2.39421580e-02 9.76057842e-01]\n",
      " [3.10101256e-01 6.89898744e-01]\n",
      " [2.04164987e-03 9.97958350e-01]\n",
      " [5.69682638e-01 4.30317362e-01]\n",
      " [4.58609398e-01 5.41390602e-01]\n",
      " [9.66458826e-04 9.99033541e-01]\n",
      " [1.19038966e-01 8.80961034e-01]\n",
      " [1.18409562e-01 8.81590438e-01]\n",
      " [4.04237082e-01 5.95762918e-01]\n",
      " [1.08423191e-01 8.91576809e-01]\n",
      " [1.37552593e-01 8.62447407e-01]\n",
      " [8.57193080e-01 1.42806920e-01]\n",
      " [3.38200498e-02 9.66179950e-01]\n",
      " [1.70096043e-03 9.98299040e-01]\n",
      " [1.29794296e-01 8.70205704e-01]\n",
      " [1.28195736e-02 9.87180426e-01]\n",
      " [1.42199009e-01 8.57800991e-01]\n",
      " [6.72447931e-01 3.27552069e-01]\n",
      " [1.22319091e-03 9.98776809e-01]\n",
      " [4.36439862e-04 9.99563560e-01]\n",
      " [1.50521550e-03 9.98494785e-01]\n",
      " [2.29987324e-04 9.99770013e-01]\n",
      " [9.93762854e-01 6.23714575e-03]\n",
      " [1.00000000e+00 3.60477476e-15]\n",
      " [7.72197759e-06 9.99992278e-01]\n",
      " [7.68394000e-03 9.92316060e-01]\n",
      " [2.54224930e-01 7.45775070e-01]\n",
      " [1.38001783e-02 9.86199822e-01]\n",
      " [1.77107196e-02 9.82289280e-01]\n",
      " [9.99999980e-01 2.04065133e-08]\n",
      " [9.99786132e-01 2.13868263e-04]\n",
      " [6.19362154e-01 3.80637846e-01]\n",
      " [2.16854651e-03 9.97831453e-01]\n",
      " [2.36252254e-04 9.99763748e-01]\n",
      " [9.98861331e-01 1.13866936e-03]\n",
      " [8.19960388e-01 1.80039612e-01]\n",
      " [2.62734374e-05 9.99973727e-01]\n",
      " [1.60297104e-02 9.83970290e-01]\n",
      " [2.33064471e-01 7.66935529e-01]\n",
      " [9.55378436e-01 4.46215637e-02]\n",
      " [1.56031733e-04 9.99843968e-01]\n",
      " [8.02569504e-02 9.19743050e-01]\n",
      " [9.97351885e-01 2.64811461e-03]\n",
      " [9.99875232e-01 1.24768100e-04]\n",
      " [2.83892072e-02 9.71610793e-01]\n",
      " [2.88023200e-05 9.99971198e-01]\n",
      " [7.06282666e-02 9.29371733e-01]\n",
      " [3.35327757e-02 9.66467224e-01]\n",
      " [7.39359282e-01 2.60640718e-01]\n",
      " [3.95284736e-03 9.96047153e-01]\n",
      " [9.50543700e-01 4.94563004e-02]\n",
      " [6.83683049e-03 9.93163170e-01]\n",
      " [1.37964399e-03 9.98620356e-01]\n",
      " [9.70657903e-01 2.93420974e-02]\n",
      " [1.92963572e-01 8.07036428e-01]\n",
      " [5.07503406e-02 9.49249659e-01]\n",
      " [8.40072920e-01 1.59927080e-01]\n",
      " [6.40001514e-01 3.59998486e-01]\n",
      " [9.99999991e-01 9.03217957e-09]\n",
      " [9.89030092e-01 1.09699084e-02]\n",
      " [9.99999242e-01 7.57990866e-07]\n",
      " [4.21660413e-01 5.78339587e-01]\n",
      " [1.48613987e-07 9.99999851e-01]\n",
      " [9.99917019e-01 8.29811336e-05]\n",
      " [9.99996558e-01 3.44173560e-06]\n",
      " [3.24664655e-06 9.99996753e-01]\n",
      " [8.77860739e-01 1.22139261e-01]\n",
      " [9.99997190e-01 2.80981186e-06]\n",
      " [1.00000000e+00 4.87616873e-13]\n",
      " [9.99991698e-01 8.30188301e-06]\n",
      " [6.27651198e-06 9.99993723e-01]\n",
      " [5.58371562e-08 9.99999944e-01]\n",
      " [2.02969517e-04 9.99797030e-01]\n",
      " [1.27198699e-02 9.87280130e-01]\n",
      " [3.53130082e-03 9.96468699e-01]\n",
      " [1.90213546e-04 9.99809786e-01]\n",
      " [1.62300521e-02 9.83769948e-01]\n",
      " [2.54772267e-03 9.97452277e-01]\n",
      " [2.81076147e-01 7.18923853e-01]\n",
      " [9.96295934e-01 3.70406572e-03]\n",
      " [4.30859736e-03 9.95691403e-01]\n",
      " [6.61222778e-02 9.33877722e-01]\n",
      " [9.42869683e-01 5.71303174e-02]\n",
      " [1.62441581e-05 9.99983756e-01]\n",
      " [5.35679258e-02 9.46432074e-01]\n",
      " [9.24570009e-02 9.07542999e-01]\n",
      " [2.14957163e-02 9.78504284e-01]\n",
      " [1.94625255e-01 8.05374745e-01]\n",
      " [9.99584929e-01 4.15070792e-04]\n",
      " [9.98640331e-01 1.35966904e-03]\n",
      " [6.14116327e-01 3.85883673e-01]\n",
      " [9.99985223e-01 1.47770676e-05]\n",
      " [7.27955518e-04 9.99272044e-01]\n",
      " [2.87247851e-06 9.99997128e-01]\n",
      " [1.29631342e-03 9.98703687e-01]\n",
      " [8.63483551e-01 1.36516449e-01]\n",
      " [1.18712848e-04 9.99881287e-01]\n",
      " [1.37916331e-01 8.62083669e-01]\n",
      " [4.98477709e-01 5.01522291e-01]\n",
      " [1.56363335e-01 8.43636665e-01]\n",
      " [9.95510221e-01 4.48977893e-03]\n",
      " [9.99999756e-01 2.44413777e-07]\n",
      " [8.39507453e-01 1.60492547e-01]\n",
      " [4.60873897e-03 9.95391261e-01]\n",
      " [7.51392056e-01 2.48607944e-01]\n",
      " [5.74361687e-05 9.99942564e-01]\n",
      " [3.15883567e-04 9.99684116e-01]\n",
      " [3.15746910e-01 6.84253090e-01]\n",
      " [9.98006222e-01 1.99377789e-03]\n",
      " [9.99436224e-01 5.63776283e-04]\n",
      " [5.24767147e-01 4.75232853e-01]\n",
      " [1.17667623e-04 9.99882332e-01]\n",
      " [5.03038413e-02 9.49696159e-01]\n",
      " [2.26625372e-03 9.97733746e-01]\n",
      " [3.11635147e-03 9.96883649e-01]\n",
      " [3.53813524e-01 6.46186476e-01]]\n"
     ]
    }
   ],
   "source": [
    "probability = model.predict_proba(X_test)\n",
    "print(probability)"
   ]
  },
  {
   "cell_type": "code",
   "execution_count": 48,
   "metadata": {},
   "outputs": [
    {
     "data": {
      "text/plain": [
       "149"
      ]
     },
     "execution_count": 48,
     "metadata": {},
     "output_type": "execute_result"
    }
   ],
   "source": [
    "len(probability)"
   ]
  },
  {
   "cell_type": "markdown",
   "metadata": {},
   "source": [
    "### 5.4  Predicting the class of model with only 1 outcome:\n",
    "\n",
    "[1] would mean that as the probability of the closing price of tomorrow is higher than todays taken above \n",
    "\n",
    "\n"
   ]
  },
  {
   "cell_type": "code",
   "execution_count": 29,
   "metadata": {},
   "outputs": [
    {
     "name": "stdout",
     "output_type": "stream",
     "text": [
      "[ 1 -1  1 -1  1  1  1  1 -1  1 -1  1 -1 -1  1  1  1  1 -1  1  1  1 -1 -1\n",
      " -1 -1  1  1  1 -1 -1 -1 -1  1  1  1 -1  1  1  1  1  1  1  1 -1  1  1  1\n",
      "  1  1 -1  1  1  1  1 -1 -1  1  1  1  1  1 -1 -1 -1  1  1 -1 -1  1  1  1\n",
      " -1  1  1 -1 -1  1  1  1  1 -1  1 -1  1  1 -1  1  1 -1 -1 -1 -1 -1  1  1\n",
      " -1 -1  1 -1 -1 -1 -1  1  1  1  1  1  1  1  1  1 -1  1  1 -1  1  1  1  1\n",
      "  1 -1 -1 -1 -1  1  1  1 -1  1  1  1  1 -1 -1 -1  1 -1  1  1  1 -1 -1 -1\n",
      "  1  1  1  1  1]\n"
     ]
    }
   ],
   "source": [
    "\n",
    "predicted = modell.predict(X_test)\n",
    "print(predicted)"
   ]
  },
  {
   "cell_type": "code",
   "execution_count": 30,
   "metadata": {},
   "outputs": [
    {
     "name": "stdout",
     "output_type": "stream",
     "text": [
      "0.9731543624161074\n"
     ]
    }
   ],
   "source": [
    "score= model.score(X_test, Y_test)\n",
    "print(score)"
   ]
  },
  {
   "cell_type": "code",
   "execution_count": 31,
   "metadata": {},
   "outputs": [
    {
     "name": "stdout",
     "output_type": "stream",
     "text": [
      "<class 'pandas.core.frame.DataFrame'>\n",
      "DatetimeIndex: 496 entries, 2010-05-10 to 2019-11-04\n",
      "Freq: 7D\n",
      "Data columns (total 10 columns):\n",
      "High          496 non-null float64\n",
      "Low           496 non-null float64\n",
      "Open          496 non-null float64\n",
      "Close         496 non-null float64\n",
      "m10           496 non-null float64\n",
      "Corr          496 non-null float64\n",
      "Open-Close    496 non-null float64\n",
      "Open-Open     496 non-null float64\n",
      "EMA           496 non-null float64\n",
      "ROC           496 non-null float64\n",
      "dtypes: float64(10)\n",
      "memory usage: 42.6 KB\n"
     ]
    }
   ],
   "source": [
    "df1.info()"
   ]
  },
  {
   "cell_type": "code",
   "execution_count": 32,
   "metadata": {},
   "outputs": [
    {
     "data": {
      "text/plain": [
       "149"
      ]
     },
     "execution_count": 32,
     "metadata": {},
     "output_type": "execute_result"
    }
   ],
   "source": [
    "len(predicted)"
   ]
  },
  {
   "cell_type": "code",
   "execution_count": 33,
   "metadata": {},
   "outputs": [
    {
     "data": {
      "text/plain": [
       "149"
      ]
     },
     "execution_count": 33,
     "metadata": {},
     "output_type": "execute_result"
    }
   ],
   "source": [
    "len(Y_test)"
   ]
  },
  {
   "cell_type": "markdown",
   "metadata": {},
   "source": [
    "# 6. Evaluating the model"
   ]
  },
  {
   "cell_type": "markdown",
   "metadata": {},
   "source": [
    "### 6.1 Predictions vs actual data analysis\n"
   ]
  },
  {
   "cell_type": "code",
   "execution_count": 34,
   "metadata": {},
   "outputs": [],
   "source": [
    "df2 = pd.DataFrame({'Actual': Y_test, 'Predicted': predicted})\n",
    "\n"
   ]
  },
  {
   "cell_type": "code",
   "execution_count": 35,
   "metadata": {},
   "outputs": [
    {
     "name": "stdout",
     "output_type": "stream",
     "text": [
      "     Actual  Predicted\n",
      "0         1          1\n",
      "1        -1         -1\n",
      "2         1          1\n",
      "3        -1         -1\n",
      "4         1          1\n",
      "5         1          1\n",
      "6         1          1\n",
      "7         1          1\n",
      "8        -1         -1\n",
      "9         1          1\n",
      "10       -1         -1\n",
      "11        1          1\n",
      "12       -1         -1\n",
      "13       -1         -1\n",
      "14        1          1\n",
      "15        1          1\n",
      "16        1          1\n",
      "17        1          1\n",
      "18       -1         -1\n",
      "19        1          1\n",
      "20        1          1\n",
      "21        1          1\n",
      "22        1         -1\n",
      "23       -1         -1\n",
      "24       -1         -1\n",
      "25       -1         -1\n",
      "26        1          1\n",
      "27        1          1\n",
      "28        1          1\n",
      "29        1         -1\n",
      "..      ...        ...\n",
      "119       1          1\n",
      "120       1          1\n",
      "121      -1         -1\n",
      "122      -1         -1\n",
      "123      -1         -1\n",
      "124      -1         -1\n",
      "125       1          1\n",
      "126       1          1\n",
      "127       1          1\n",
      "128      -1         -1\n",
      "129       1          1\n",
      "130       1          1\n",
      "131       1          1\n",
      "132       1          1\n",
      "133      -1         -1\n",
      "134      -1         -1\n",
      "135      -1         -1\n",
      "136       1          1\n",
      "137      -1         -1\n",
      "138       1          1\n",
      "139       1          1\n",
      "140       1          1\n",
      "141      -1         -1\n",
      "142      -1         -1\n",
      "143      -1         -1\n",
      "144       1          1\n",
      "145       1          1\n",
      "146       1          1\n",
      "147       1          1\n",
      "148      -1          1\n",
      "\n",
      "[149 rows x 2 columns]\n"
     ]
    }
   ],
   "source": [
    "print(df2)"
   ]
  },
  {
   "cell_type": "markdown",
   "metadata": {},
   "source": [
    "\n",
    "### 6.2 Classification report\n",
    "    \n",
    "   -) Precision: number of true positives over the number of true \n",
    "    positives plus the number of false positives.\n",
    "    \n",
    "   -) Recall: number of true positives over the number of true \n",
    "    positives plus the number of false negatives.\n",
    "    \n",
    "   -) F1: weighted average of the precision and recall\n",
    "    F1 = 2 * (precision * recall) / (precision + recall)"
   ]
  },
  {
   "cell_type": "code",
   "execution_count": 36,
   "metadata": {},
   "outputs": [
    {
     "name": "stdout",
     "output_type": "stream",
     "text": [
      "              precision    recall  f1-score   support\n",
      "\n",
      "          -1       0.96      0.96      0.96        56\n",
      "           1       0.98      0.98      0.98        93\n",
      "\n",
      "    accuracy                           0.97       149\n",
      "   macro avg       0.97      0.97      0.97       149\n",
      "weighted avg       0.97      0.97      0.97       149\n",
      "\n"
     ]
    }
   ],
   "source": [
    "print(metrics.classification_report(Y_test, predicted))\n"
   ]
  },
  {
   "cell_type": "markdown",
   "metadata": {},
   "source": [
    "### 6.3 Confusion matrix\n",
    "\n",
    "  To describe the performance of classification model on a set of test dataset for which the true values are known. We will calculate the confusion matrix using ‘confusion_matrix’ function."
   ]
  },
  {
   "cell_type": "code",
   "execution_count": 37,
   "metadata": {
    "scrolled": true
   },
   "outputs": [
    {
     "name": "stdout",
     "output_type": "stream",
     "text": [
      "[[54  2]\n",
      " [ 2 91]]\n"
     ]
    }
   ],
   "source": [
    "print(metrics.confusion_matrix(Y_test, predicted))\n"
   ]
  },
  {
   "cell_type": "markdown",
   "metadata": {},
   "source": [
    "### 6.4 The score of the model\n",
    "\n",
    "Accuracy = nº of correct predictions / number of predictions\n",
    "\n",
    "Tested on the test dataset obviously"
   ]
  },
  {
   "cell_type": "code",
   "execution_count": 38,
   "metadata": {},
   "outputs": [
    {
     "name": "stdout",
     "output_type": "stream",
     "text": [
      "0.9731543624161074\n"
     ]
    }
   ],
   "source": [
    "score= model.score(X_test, Y_test)\n",
    "print(score)"
   ]
  },
  {
   "cell_type": "markdown",
   "metadata": {},
   "source": [
    "### 6.5 K-Fold Cross validation test\n",
    "\n",
    "   -) Method:\n",
    "    \n",
    "   1. Randomly split your entire dataset into k”folds” (k=10)\n",
    "   2. For 1st fold in your dataset, build your model on rest 9 folds of the dataset. Then, test the model to check the accuracy for the 1st fold\n",
    "   3. Record the error accuracy you see on each of the predictions\n",
    "   4. Repeat this until each of the k-folds has served as the test set\n",
    "   5. The average of your k recorded errors is called the cross-validation error and will serve as your performance metric for the model\n",
    "    \n",
    "    *Note: Lower values of K is more biased and higher value of K is less biased but more volatile"
   ]
  },
  {
   "cell_type": "code",
   "execution_count": 39,
   "metadata": {},
   "outputs": [
    {
     "name": "stdout",
     "output_type": "stream",
     "text": [
      "[1.         1.         0.98039216 1.         1.         0.97959184\n",
      " 1.         0.97959184 1.         0.97959184]\n",
      "0.9919167667066826\n"
     ]
    },
    {
     "name": "stderr",
     "output_type": "stream",
     "text": [
      "/Users/inigo/anaconda3/lib/python3.7/site-packages/sklearn/linear_model/logistic.py:432: FutureWarning: Default solver will be changed to 'lbfgs' in 0.22. Specify a solver to silence this warning.\n",
      "  FutureWarning)\n",
      "/Users/inigo/anaconda3/lib/python3.7/site-packages/sklearn/linear_model/logistic.py:432: FutureWarning: Default solver will be changed to 'lbfgs' in 0.22. Specify a solver to silence this warning.\n",
      "  FutureWarning)\n",
      "/Users/inigo/anaconda3/lib/python3.7/site-packages/sklearn/linear_model/logistic.py:432: FutureWarning: Default solver will be changed to 'lbfgs' in 0.22. Specify a solver to silence this warning.\n",
      "  FutureWarning)\n",
      "/Users/inigo/anaconda3/lib/python3.7/site-packages/sklearn/linear_model/logistic.py:432: FutureWarning: Default solver will be changed to 'lbfgs' in 0.22. Specify a solver to silence this warning.\n",
      "  FutureWarning)\n",
      "/Users/inigo/anaconda3/lib/python3.7/site-packages/sklearn/linear_model/logistic.py:432: FutureWarning: Default solver will be changed to 'lbfgs' in 0.22. Specify a solver to silence this warning.\n",
      "  FutureWarning)\n",
      "/Users/inigo/anaconda3/lib/python3.7/site-packages/sklearn/linear_model/logistic.py:432: FutureWarning: Default solver will be changed to 'lbfgs' in 0.22. Specify a solver to silence this warning.\n",
      "  FutureWarning)\n",
      "/Users/inigo/anaconda3/lib/python3.7/site-packages/sklearn/linear_model/logistic.py:432: FutureWarning: Default solver will be changed to 'lbfgs' in 0.22. Specify a solver to silence this warning.\n",
      "  FutureWarning)\n",
      "/Users/inigo/anaconda3/lib/python3.7/site-packages/sklearn/linear_model/logistic.py:432: FutureWarning: Default solver will be changed to 'lbfgs' in 0.22. Specify a solver to silence this warning.\n",
      "  FutureWarning)\n",
      "/Users/inigo/anaconda3/lib/python3.7/site-packages/sklearn/linear_model/logistic.py:432: FutureWarning: Default solver will be changed to 'lbfgs' in 0.22. Specify a solver to silence this warning.\n",
      "  FutureWarning)\n",
      "/Users/inigo/anaconda3/lib/python3.7/site-packages/sklearn/linear_model/logistic.py:432: FutureWarning: Default solver will be changed to 'lbfgs' in 0.22. Specify a solver to silence this warning.\n",
      "  FutureWarning)\n"
     ]
    }
   ],
   "source": [
    "cross_val = cross_val_score(LogisticRegression(), X, Y, scoring='accuracy', cv=10)\n",
    "\n",
    "print(cross_val)\n",
    "\n",
    "print(cross_val.mean())"
   ]
  },
  {
   "cell_type": "markdown",
   "metadata": {},
   "source": [
    "# 7. Conclusions"
   ]
  },
  {
   "cell_type": "markdown",
   "metadata": {},
   "source": [
    "### 7.1 Def. predicted signal\n",
    "    \n",
    "   "
   ]
  },
  {
   "cell_type": "code",
   "execution_count": 40,
   "metadata": {},
   "outputs": [
    {
     "name": "stderr",
     "output_type": "stream",
     "text": [
      "/Users/inigo/anaconda3/lib/python3.7/site-packages/ipykernel_launcher.py:1: SettingWithCopyWarning: \n",
      "A value is trying to be set on a copy of a slice from a DataFrame.\n",
      "Try using .loc[row_indexer,col_indexer] = value instead\n",
      "\n",
      "See the caveats in the documentation: http://pandas.pydata.org/pandas-docs/stable/indexing.html#indexing-view-versus-copy\n",
      "  \"\"\"Entry point for launching an IPython kernel.\n"
     ]
    }
   ],
   "source": [
    "df1['Predicted_Signal'] = model.predict(X)"
   ]
  },
  {
   "cell_type": "markdown",
   "metadata": {},
   "source": [
    "### 7.2 Def. SP500 returns \n",
    "\n",
    "Relative returns: Variation (%) between closing of tomorrow vs closing of today\n",
    "\n"
   ]
  },
  {
   "cell_type": "code",
   "execution_count": 41,
   "metadata": {},
   "outputs": [
    {
     "name": "stderr",
     "output_type": "stream",
     "text": [
      "/Users/inigo/anaconda3/lib/python3.7/site-packages/ipykernel_launcher.py:1: SettingWithCopyWarning: \n",
      "A value is trying to be set on a copy of a slice from a DataFrame.\n",
      "Try using .loc[row_indexer,col_indexer] = value instead\n",
      "\n",
      "See the caveats in the documentation: http://pandas.pydata.org/pandas-docs/stable/indexing.html#indexing-view-versus-copy\n",
      "  \"\"\"Entry point for launching an IPython kernel.\n"
     ]
    }
   ],
   "source": [
    "df1['SP500_returns'] = np.log(df1['Close']/df1['Close'].shift(1))"
   ]
  },
  {
   "cell_type": "code",
   "execution_count": 42,
   "metadata": {},
   "outputs": [
    {
     "name": "stdout",
     "output_type": "stream",
     "text": [
      "                  High         Low        Open       Close         m10  \\\n",
      "Date                                                                     \n",
      "2010-05-10  116.928001  114.934001  115.884000  115.864000  117.695000   \n",
      "2010-05-17  112.355998  109.398000  111.227998  110.952000  117.298000   \n",
      "2010-05-24  109.650002  107.293999  108.388000  108.566000  116.514400   \n",
      "2010-05-31  110.169998  107.730001  108.922501  108.847500  115.717750   \n",
      "2010-06-07  108.350000  105.964001  107.212000  107.398001  114.719550   \n",
      "2010-06-14  112.020000  110.622000  111.265999  111.468001  113.976750   \n",
      "2010-06-21  110.475999  108.518001  110.120001  109.100002  112.858550   \n",
      "2010-06-28  105.523999  103.264000  104.845999  103.984000  111.173350   \n",
      "2010-07-05  106.465000  104.434999  105.224998  106.025002  109.798251   \n",
      "2010-07-12  109.535999  107.912000  108.951999  108.736002  109.094051   \n",
      "2010-07-19  109.153999  107.186000  107.908000  108.542001  108.361851   \n",
      "2010-07-26  111.660001  110.050002  110.955998  110.900000  108.356651   \n",
      "2010-08-02  112.860001  111.710001  112.198000  112.638000  108.763851   \n",
      "2010-08-09  110.966000  109.718001  110.308000  110.321999  108.911301   \n",
      "2010-08-16  109.362000  107.830000  108.616000  108.609999  109.032500   \n",
      "2010-08-23  106.970000  105.103999  106.253999  106.136002  108.499301   \n",
      "2010-08-30  108.396001  106.978000  107.498001  107.887999  108.378100   \n",
      "2010-09-06  111.162500  110.212502  110.750002  110.612501  109.040950   \n",
      "2010-09-13  113.144000  112.144000  112.634001  112.798001  109.718250   \n",
      "2010-09-20  114.462000  112.992000  113.444000  113.786000  110.223250   \n",
      "2010-09-27  115.170001  113.775999  114.739999  114.429999  110.812050   \n",
      "2010-10-04  116.178000  114.842000  115.548001  115.650000  111.287050   \n",
      "2010-10-11  117.846001  116.552000  117.348000  117.348000  111.758050   \n",
      "2010-10-18  118.515999  117.081999  117.716000  117.872000  112.513050   \n",
      "2010-10-25  118.988000  117.928001  118.493999  118.537999  113.505850   \n",
      "2010-11-01  120.951999  119.509999  120.357999  120.586000  114.950850   \n",
      "2010-11-08  122.194000  120.810002  121.722000  121.607999  116.322850   \n",
      "2010-11-15  119.995999  118.806000  119.468001  119.332001  117.194800   \n",
      "2010-11-22  119.824999  118.684999  119.205000  119.410000  117.856000   \n",
      "2010-11-29  121.114000  119.795999  120.003999  120.822000  118.559600   \n",
      "...                ...         ...         ...         ...         ...   \n",
      "2019-04-15  290.777504  289.057495  290.672501  289.900002  281.721500   \n",
      "2019-04-22  292.602002  290.706006  291.372003  292.167999  283.509100   \n",
      "2019-04-29  294.156006  291.589996  293.244000  292.981995  284.986799   \n",
      "2019-05-06  289.963995  285.435992  287.556000  288.608002  285.904799   \n",
      "2019-05-13  286.433997  282.803998  283.396002  284.571997  286.657599   \n",
      "2019-05-20  285.397998  283.285999  284.447998  284.202008  287.043000   \n",
      "2019-05-27  280.167496  277.472496  279.327499  278.179993  286.655800   \n",
      "2019-06-03  282.923993  279.667999  280.795996  282.101996  286.805999   \n",
      "2019-06-10  290.278003  288.379999  289.532001  289.020001  287.028599   \n",
      "2019-06-17  293.853998  291.706000  292.726001  292.937994  287.467199   \n",
      "2019-06-24  293.245996  291.472009  292.714001  291.874005  287.664599   \n",
      "2019-07-01  297.717506  295.509995  296.727493  297.337494  288.181548   \n",
      "2019-07-08  299.150000  297.438007  298.018005  298.515997  288.734949   \n",
      "2019-07-15  300.252002  298.210004  299.752002  298.853998  289.759548   \n",
      "2019-07-22  300.640002  298.815997  299.528003  300.276001  291.329949   \n",
      "2019-07-29  299.874005  296.079999  298.846002  297.413995  292.651147   \n",
      "2019-08-05  290.385999  285.340002  288.119995  288.965997  293.729748   \n",
      "2019-08-12  289.893994  285.047998  287.426001  287.603998  294.279948   \n",
      "2019-08-19  292.997992  289.396002  292.118005  290.415997  294.419548   \n",
      "2019-08-26  290.884003  287.777997  289.778003  289.758002  294.101548   \n",
      "2019-09-02  295.807495  293.250000  294.667511  295.162498  294.430398   \n",
      "2019-09-09  300.482001  298.394000  299.600000  299.792004  294.675849   \n",
      "2019-09-16  301.336005  299.112000  300.431995  300.308002  294.855049   \n",
      "2019-09-23  298.551996  295.109998  297.675995  296.819995  294.651649   \n",
      "2019-09-30  294.520001  290.292004  292.832001  292.567999  293.880849   \n",
      "2019-10-07  294.471997  291.691998  292.541998  292.479993  293.387449   \n",
      "2019-10-14  299.034003  297.202002  297.953998  298.096002  294.300449   \n",
      "2019-10-21  300.864001  299.097998  299.876001  300.170001  295.557049   \n",
      "2019-10-28  304.590002  302.845996  303.684003  304.023999  296.917850   \n",
      "2019-11-04  308.394000  306.883997  307.767999  307.723999  298.714449   \n",
      "\n",
      "                Corr  Open-Close  Open-Open         EMA       ROC  \n",
      "Date                                                               \n",
      "2010-05-10  0.257754    0.106000  -0.886000  116.952947  4.427139  \n",
      "2010-05-17 -0.216907   -4.636002  -4.656001  115.841785  2.197742  \n",
      "2010-05-24 -0.342284   -2.564000  -2.839998  114.499062 -0.258618  \n",
      "2010-05-31 -0.334211    0.356500   0.534500  113.458922  1.349652  \n",
      "2010-06-07 -0.125469   -1.635500  -1.710501  112.345920 -3.651272  \n",
      "2010-06-14  0.156064    3.867998   4.053999  112.184995  2.170485  \n",
      "2010-06-21  0.465325   -1.348000  -1.145998  111.620346  4.919990  \n",
      "2010-06-28  0.713365   -4.254002  -5.274002  110.224351 -1.925019  \n",
      "2010-07-05  0.768735    1.240999   0.378999  109.457432 -2.493195  \n",
      "2010-07-12  0.639903    2.926997   3.727000  109.325785  0.178733  \n",
      "2010-07-19  0.438538   -0.828001  -1.043999  109.182854 -2.126239  \n",
      "2010-07-26  0.076591    2.413997   3.047998  109.495823 -1.542997  \n",
      "2010-08-02 -0.110781    1.298000   1.242001  110.068266  2.099311  \n",
      "2010-08-09 -0.180162   -2.330000  -1.889999  110.114474  1.576282  \n",
      "2010-08-16 -0.063251   -1.705998  -1.692000  109.840569  2.330969  \n",
      "2010-08-23 -0.328067   -2.356000  -2.362001  109.166277 -1.623904  \n",
      "2010-08-30 -0.640727    1.362000   1.244002  108.933656 -2.463105  \n",
      "2010-09-06 -0.238541    2.862003   3.252001  109.239123 -1.937534  \n",
      "2010-09-13  0.517733    2.021500   1.883999  109.886578 -0.868296  \n",
      "2010-09-20  0.713256    0.645999   0.809999  110.595910 -0.562788  \n",
      "2010-09-27  0.766792    0.953999   1.295999  111.293295 -1.054908  \n",
      "2010-10-04  0.866385    1.118002   0.808002  112.085682 -1.446978  \n",
      "2010-10-11  0.960512    1.698000   1.799998  113.042723 -0.444550  \n",
      "2010-10-18  0.964992    0.368001   0.368001  113.920965 -0.561844  \n",
      "2010-10-25  0.952442    0.621999   0.777998  114.760576 -1.698374  \n",
      "2010-11-01  0.966534    1.820000   1.864000  115.819899 -0.840404  \n",
      "2010-11-08  0.973620    1.136000   1.364001  116.872407  1.907282  \n",
      "2010-11-15  0.913135   -2.139998  -2.253999  117.319650 -0.065320  \n",
      "2010-11-22  0.853594   -0.127001  -0.263001  117.699744 -1.168662  \n",
      "2010-11-29  0.837988    0.593999   0.798999  118.267464 -2.106595  \n",
      "...              ...         ...        ...         ...       ...  \n",
      "2019-04-15  0.914136    2.120499   2.188504  281.579234 -0.776265  \n",
      "2019-04-22  0.908726    1.472002   0.699503  283.504464 -0.277831  \n",
      "2019-04-29  0.941263    1.076001   1.871997  285.227652  1.515548  \n",
      "2019-05-06  0.938077   -5.425995  -5.688000  285.842261  1.418272  \n",
      "2019-05-13  0.742327   -5.212000  -4.159998  285.611304  0.130185  \n",
      "2019-05-20  0.484119   -0.123999   1.051996  285.355068  2.164791  \n",
      "2019-05-27  0.042230   -4.874509  -5.120499  284.050509 -1.390278  \n",
      "2019-06-03 -0.419772    2.616003   1.468497  283.696234 -2.393608  \n",
      "2019-06-10 -0.501405    7.430005   8.736005  284.664192 -1.337482  \n",
      "2019-06-17 -0.405939    3.706000   3.194000  286.168519  0.364537  \n",
      "2019-06-24 -0.287654   -0.223993  -0.012000  287.205880 -1.837471  \n",
      "2019-07-01  0.232400    4.853488   4.013492  289.047992 -0.394787  \n",
      "2019-07-08  0.769038    0.680511   1.290512  290.769447 -0.113099  \n",
      "2019-07-15  0.879836    1.236005   1.733997  292.239366 -0.473565  \n",
      "2019-07-22  0.823446    0.674005  -0.223999  293.700572  0.962297  \n",
      "2019-07-29  0.722526   -1.429999  -0.682001  294.375740  2.923527  \n",
      "2019-08-05  0.346212   -9.294000 -10.726007  293.392150  0.473568  \n",
      "2019-08-12 -0.167906   -1.539996  -0.693994  292.339759 -0.968266  \n",
      "2019-08-19 -0.461439    4.514008   4.692004  291.989984  0.227085  \n",
      "2019-08-26 -0.611824   -0.637994  -2.340002  291.584169 -1.831024  \n",
      "2019-09-02 -0.747418    4.909509   4.889508  292.234775 -1.544239  \n",
      "2019-09-09 -0.579112    4.437502   4.932489  293.608816 -0.171823  \n",
      "2019-09-16 -0.380102    0.639990   0.831995  294.826850  1.175125  \n",
      "2019-09-23 -0.230505   -2.632007  -2.756000  295.189240  1.453336  \n",
      "2019-09-30  0.189018   -3.987994  -4.843994  294.712651  0.030090  \n",
      "2019-10-07  0.633603   -0.026001  -0.290002  294.306713 -1.883960  \n",
      "2019-10-14  0.550846    5.474005   5.412000  294.995675 -0.690941  \n",
      "2019-10-21  0.703099    1.779999   1.922003  295.936461 -1.267662  \n",
      "2019-10-28  0.839185    3.514001   3.808002  297.406923 -1.202376  \n",
      "2019-11-04  0.933282    3.744000   4.083997  299.282755 -0.203018  \n",
      "\n",
      "[496 rows x 10 columns]\n"
     ]
    }
   ],
   "source": [
    "print(X)"
   ]
  },
  {
   "cell_type": "code",
   "execution_count": null,
   "metadata": {},
   "outputs": [],
   "source": []
  },
  {
   "cell_type": "code",
   "execution_count": 43,
   "metadata": {},
   "outputs": [
    {
     "name": "stdout",
     "output_type": "stream",
     "text": [
      "<class 'pandas.core.frame.DataFrame'>\n",
      "DatetimeIndex: 515 entries, 2010-01-04 to 2019-11-11\n",
      "Freq: 7D\n",
      "Data columns (total 10 columns):\n",
      "High          515 non-null float64\n",
      "Low           515 non-null float64\n",
      "Open          515 non-null float64\n",
      "Close         515 non-null float64\n",
      "m10           506 non-null float64\n",
      "Corr          497 non-null float64\n",
      "Open-Close    514 non-null float64\n",
      "Open-Open     514 non-null float64\n",
      "EMA           515 non-null float64\n",
      "ROC           514 non-null float64\n",
      "dtypes: float64(10)\n",
      "memory usage: 44.3 KB\n"
     ]
    }
   ],
   "source": [
    "df.info()"
   ]
  },
  {
   "cell_type": "code",
   "execution_count": 44,
   "metadata": {},
   "outputs": [
    {
     "name": "stdout",
     "output_type": "stream",
     "text": [
      "<class 'pandas.core.frame.DataFrame'>\n",
      "DatetimeIndex: 496 entries, 2010-05-10 to 2019-11-04\n",
      "Freq: 7D\n",
      "Data columns (total 12 columns):\n",
      "High                496 non-null float64\n",
      "Low                 496 non-null float64\n",
      "Open                496 non-null float64\n",
      "Close               496 non-null float64\n",
      "m10                 496 non-null float64\n",
      "Corr                496 non-null float64\n",
      "Open-Close          496 non-null float64\n",
      "Open-Open           496 non-null float64\n",
      "EMA                 496 non-null float64\n",
      "ROC                 496 non-null float64\n",
      "Predicted_Signal    496 non-null int64\n",
      "SP500_returns       495 non-null float64\n",
      "dtypes: float64(11), int64(1)\n",
      "memory usage: 50.4 KB\n"
     ]
    }
   ],
   "source": [
    "df1.info()"
   ]
  },
  {
   "cell_type": "code",
   "execution_count": 45,
   "metadata": {},
   "outputs": [
    {
     "name": "stdout",
     "output_type": "stream",
     "text": [
      "                  High         Low        Open       Close         m10  \\\n",
      "Date                                                                     \n",
      "2010-05-10  116.928001  114.934001  115.884000  115.864000  117.695000   \n",
      "2010-05-17  112.355998  109.398000  111.227998  110.952000  117.298000   \n",
      "2010-05-24  109.650002  107.293999  108.388000  108.566000  116.514400   \n",
      "2010-05-31  110.169998  107.730001  108.922501  108.847500  115.717750   \n",
      "2010-06-07  108.350000  105.964001  107.212000  107.398001  114.719550   \n",
      "2010-06-14  112.020000  110.622000  111.265999  111.468001  113.976750   \n",
      "2010-06-21  110.475999  108.518001  110.120001  109.100002  112.858550   \n",
      "2010-06-28  105.523999  103.264000  104.845999  103.984000  111.173350   \n",
      "2010-07-05  106.465000  104.434999  105.224998  106.025002  109.798251   \n",
      "2010-07-12  109.535999  107.912000  108.951999  108.736002  109.094051   \n",
      "2010-07-19  109.153999  107.186000  107.908000  108.542001  108.361851   \n",
      "2010-07-26  111.660001  110.050002  110.955998  110.900000  108.356651   \n",
      "2010-08-02  112.860001  111.710001  112.198000  112.638000  108.763851   \n",
      "2010-08-09  110.966000  109.718001  110.308000  110.321999  108.911301   \n",
      "2010-08-16  109.362000  107.830000  108.616000  108.609999  109.032500   \n",
      "2010-08-23  106.970000  105.103999  106.253999  106.136002  108.499301   \n",
      "2010-08-30  108.396001  106.978000  107.498001  107.887999  108.378100   \n",
      "2010-09-06  111.162500  110.212502  110.750002  110.612501  109.040950   \n",
      "2010-09-13  113.144000  112.144000  112.634001  112.798001  109.718250   \n",
      "2010-09-20  114.462000  112.992000  113.444000  113.786000  110.223250   \n",
      "2010-09-27  115.170001  113.775999  114.739999  114.429999  110.812050   \n",
      "2010-10-04  116.178000  114.842000  115.548001  115.650000  111.287050   \n",
      "2010-10-11  117.846001  116.552000  117.348000  117.348000  111.758050   \n",
      "2010-10-18  118.515999  117.081999  117.716000  117.872000  112.513050   \n",
      "2010-10-25  118.988000  117.928001  118.493999  118.537999  113.505850   \n",
      "2010-11-01  120.951999  119.509999  120.357999  120.586000  114.950850   \n",
      "2010-11-08  122.194000  120.810002  121.722000  121.607999  116.322850   \n",
      "2010-11-15  119.995999  118.806000  119.468001  119.332001  117.194800   \n",
      "2010-11-22  119.824999  118.684999  119.205000  119.410000  117.856000   \n",
      "2010-11-29  121.114000  119.795999  120.003999  120.822000  118.559600   \n",
      "...                ...         ...         ...         ...         ...   \n",
      "2019-04-15  290.777504  289.057495  290.672501  289.900002  281.721500   \n",
      "2019-04-22  292.602002  290.706006  291.372003  292.167999  283.509100   \n",
      "2019-04-29  294.156006  291.589996  293.244000  292.981995  284.986799   \n",
      "2019-05-06  289.963995  285.435992  287.556000  288.608002  285.904799   \n",
      "2019-05-13  286.433997  282.803998  283.396002  284.571997  286.657599   \n",
      "2019-05-20  285.397998  283.285999  284.447998  284.202008  287.043000   \n",
      "2019-05-27  280.167496  277.472496  279.327499  278.179993  286.655800   \n",
      "2019-06-03  282.923993  279.667999  280.795996  282.101996  286.805999   \n",
      "2019-06-10  290.278003  288.379999  289.532001  289.020001  287.028599   \n",
      "2019-06-17  293.853998  291.706000  292.726001  292.937994  287.467199   \n",
      "2019-06-24  293.245996  291.472009  292.714001  291.874005  287.664599   \n",
      "2019-07-01  297.717506  295.509995  296.727493  297.337494  288.181548   \n",
      "2019-07-08  299.150000  297.438007  298.018005  298.515997  288.734949   \n",
      "2019-07-15  300.252002  298.210004  299.752002  298.853998  289.759548   \n",
      "2019-07-22  300.640002  298.815997  299.528003  300.276001  291.329949   \n",
      "2019-07-29  299.874005  296.079999  298.846002  297.413995  292.651147   \n",
      "2019-08-05  290.385999  285.340002  288.119995  288.965997  293.729748   \n",
      "2019-08-12  289.893994  285.047998  287.426001  287.603998  294.279948   \n",
      "2019-08-19  292.997992  289.396002  292.118005  290.415997  294.419548   \n",
      "2019-08-26  290.884003  287.777997  289.778003  289.758002  294.101548   \n",
      "2019-09-02  295.807495  293.250000  294.667511  295.162498  294.430398   \n",
      "2019-09-09  300.482001  298.394000  299.600000  299.792004  294.675849   \n",
      "2019-09-16  301.336005  299.112000  300.431995  300.308002  294.855049   \n",
      "2019-09-23  298.551996  295.109998  297.675995  296.819995  294.651649   \n",
      "2019-09-30  294.520001  290.292004  292.832001  292.567999  293.880849   \n",
      "2019-10-07  294.471997  291.691998  292.541998  292.479993  293.387449   \n",
      "2019-10-14  299.034003  297.202002  297.953998  298.096002  294.300449   \n",
      "2019-10-21  300.864001  299.097998  299.876001  300.170001  295.557049   \n",
      "2019-10-28  304.590002  302.845996  303.684003  304.023999  296.917850   \n",
      "2019-11-04  308.394000  306.883997  307.767999  307.723999  298.714449   \n",
      "\n",
      "                Corr  Open-Close  Open-Open         EMA       ROC  \\\n",
      "Date                                                                \n",
      "2010-05-10  0.257754    0.106000  -0.886000  116.952947  4.427139   \n",
      "2010-05-17 -0.216907   -4.636002  -4.656001  115.841785  2.197742   \n",
      "2010-05-24 -0.342284   -2.564000  -2.839998  114.499062 -0.258618   \n",
      "2010-05-31 -0.334211    0.356500   0.534500  113.458922  1.349652   \n",
      "2010-06-07 -0.125469   -1.635500  -1.710501  112.345920 -3.651272   \n",
      "2010-06-14  0.156064    3.867998   4.053999  112.184995  2.170485   \n",
      "2010-06-21  0.465325   -1.348000  -1.145998  111.620346  4.919990   \n",
      "2010-06-28  0.713365   -4.254002  -5.274002  110.224351 -1.925019   \n",
      "2010-07-05  0.768735    1.240999   0.378999  109.457432 -2.493195   \n",
      "2010-07-12  0.639903    2.926997   3.727000  109.325785  0.178733   \n",
      "2010-07-19  0.438538   -0.828001  -1.043999  109.182854 -2.126239   \n",
      "2010-07-26  0.076591    2.413997   3.047998  109.495823 -1.542997   \n",
      "2010-08-02 -0.110781    1.298000   1.242001  110.068266  2.099311   \n",
      "2010-08-09 -0.180162   -2.330000  -1.889999  110.114474  1.576282   \n",
      "2010-08-16 -0.063251   -1.705998  -1.692000  109.840569  2.330969   \n",
      "2010-08-23 -0.328067   -2.356000  -2.362001  109.166277 -1.623904   \n",
      "2010-08-30 -0.640727    1.362000   1.244002  108.933656 -2.463105   \n",
      "2010-09-06 -0.238541    2.862003   3.252001  109.239123 -1.937534   \n",
      "2010-09-13  0.517733    2.021500   1.883999  109.886578 -0.868296   \n",
      "2010-09-20  0.713256    0.645999   0.809999  110.595910 -0.562788   \n",
      "2010-09-27  0.766792    0.953999   1.295999  111.293295 -1.054908   \n",
      "2010-10-04  0.866385    1.118002   0.808002  112.085682 -1.446978   \n",
      "2010-10-11  0.960512    1.698000   1.799998  113.042723 -0.444550   \n",
      "2010-10-18  0.964992    0.368001   0.368001  113.920965 -0.561844   \n",
      "2010-10-25  0.952442    0.621999   0.777998  114.760576 -1.698374   \n",
      "2010-11-01  0.966534    1.820000   1.864000  115.819899 -0.840404   \n",
      "2010-11-08  0.973620    1.136000   1.364001  116.872407  1.907282   \n",
      "2010-11-15  0.913135   -2.139998  -2.253999  117.319650 -0.065320   \n",
      "2010-11-22  0.853594   -0.127001  -0.263001  117.699744 -1.168662   \n",
      "2010-11-29  0.837988    0.593999   0.798999  118.267464 -2.106595   \n",
      "...              ...         ...        ...         ...       ...   \n",
      "2019-04-15  0.914136    2.120499   2.188504  281.579234 -0.776265   \n",
      "2019-04-22  0.908726    1.472002   0.699503  283.504464 -0.277831   \n",
      "2019-04-29  0.941263    1.076001   1.871997  285.227652  1.515548   \n",
      "2019-05-06  0.938077   -5.425995  -5.688000  285.842261  1.418272   \n",
      "2019-05-13  0.742327   -5.212000  -4.159998  285.611304  0.130185   \n",
      "2019-05-20  0.484119   -0.123999   1.051996  285.355068  2.164791   \n",
      "2019-05-27  0.042230   -4.874509  -5.120499  284.050509 -1.390278   \n",
      "2019-06-03 -0.419772    2.616003   1.468497  283.696234 -2.393608   \n",
      "2019-06-10 -0.501405    7.430005   8.736005  284.664192 -1.337482   \n",
      "2019-06-17 -0.405939    3.706000   3.194000  286.168519  0.364537   \n",
      "2019-06-24 -0.287654   -0.223993  -0.012000  287.205880 -1.837471   \n",
      "2019-07-01  0.232400    4.853488   4.013492  289.047992 -0.394787   \n",
      "2019-07-08  0.769038    0.680511   1.290512  290.769447 -0.113099   \n",
      "2019-07-15  0.879836    1.236005   1.733997  292.239366 -0.473565   \n",
      "2019-07-22  0.823446    0.674005  -0.223999  293.700572  0.962297   \n",
      "2019-07-29  0.722526   -1.429999  -0.682001  294.375740  2.923527   \n",
      "2019-08-05  0.346212   -9.294000 -10.726007  293.392150  0.473568   \n",
      "2019-08-12 -0.167906   -1.539996  -0.693994  292.339759 -0.968266   \n",
      "2019-08-19 -0.461439    4.514008   4.692004  291.989984  0.227085   \n",
      "2019-08-26 -0.611824   -0.637994  -2.340002  291.584169 -1.831024   \n",
      "2019-09-02 -0.747418    4.909509   4.889508  292.234775 -1.544239   \n",
      "2019-09-09 -0.579112    4.437502   4.932489  293.608816 -0.171823   \n",
      "2019-09-16 -0.380102    0.639990   0.831995  294.826850  1.175125   \n",
      "2019-09-23 -0.230505   -2.632007  -2.756000  295.189240  1.453336   \n",
      "2019-09-30  0.189018   -3.987994  -4.843994  294.712651  0.030090   \n",
      "2019-10-07  0.633603   -0.026001  -0.290002  294.306713 -1.883960   \n",
      "2019-10-14  0.550846    5.474005   5.412000  294.995675 -0.690941   \n",
      "2019-10-21  0.703099    1.779999   1.922003  295.936461 -1.267662   \n",
      "2019-10-28  0.839185    3.514001   3.808002  297.406923 -1.202376   \n",
      "2019-11-04  0.933282    3.744000   4.083997  299.282755 -0.203018   \n",
      "\n",
      "            Predicted_Signal  SP500_returns  \n",
      "Date                                         \n",
      "2010-05-10                -1            NaN  \n",
      "2010-05-17                -1      -0.043319  \n",
      "2010-05-24                 1      -0.021739  \n",
      "2010-05-31                -1       0.002590  \n",
      "2010-06-07                 1      -0.013406  \n",
      "2010-06-14                -1       0.037196  \n",
      "2010-06-21                -1      -0.021473  \n",
      "2010-06-28                 1      -0.048028  \n",
      "2010-07-05                 1       0.019438  \n",
      "2010-07-12                -1       0.025248  \n",
      "2010-07-19                 1      -0.001786  \n",
      "2010-07-26                 1       0.021492  \n",
      "2010-08-02                -1       0.015550  \n",
      "2010-08-09                -1      -0.020776  \n",
      "2010-08-16                -1      -0.015640  \n",
      "2010-08-23                 1      -0.023042  \n",
      "2010-08-30                 1       0.016372  \n",
      "2010-09-06                 1       0.024939  \n",
      "2010-09-13                 1       0.019566  \n",
      "2010-09-20                 1       0.008721  \n",
      "2010-09-27                 1       0.005644  \n",
      "2010-10-04                 1       0.010605  \n",
      "2010-10-11                 1       0.014575  \n",
      "2010-10-18                 1       0.004455  \n",
      "2010-10-25                 1       0.005634  \n",
      "2010-11-01                 1       0.017130  \n",
      "2010-11-08                -1       0.008440  \n",
      "2010-11-15                 1      -0.018893  \n",
      "2010-11-22                 1       0.000653  \n",
      "2010-11-29                 1       0.011755  \n",
      "...                      ...            ...  \n",
      "2019-04-15                 1       0.004661  \n",
      "2019-04-22                 1       0.007793  \n",
      "2019-04-29                -1       0.002782  \n",
      "2019-05-06                -1      -0.015042  \n",
      "2019-05-13                -1      -0.014083  \n",
      "2019-05-20                -1      -0.001301  \n",
      "2019-05-27                 1      -0.021417  \n",
      "2019-06-03                 1       0.014000  \n",
      "2019-06-10                 1       0.024227  \n",
      "2019-06-17                -1       0.013465  \n",
      "2019-06-24                 1      -0.003639  \n",
      "2019-07-01                 1       0.018546  \n",
      "2019-07-08                 1       0.003956  \n",
      "2019-07-15                 1       0.001132  \n",
      "2019-07-22                -1       0.004747  \n",
      "2019-07-29                -1      -0.009577  \n",
      "2019-08-05                -1      -0.028816  \n",
      "2019-08-12                 1      -0.004724  \n",
      "2019-08-19                -1       0.009730  \n",
      "2019-08-26                 1      -0.002268  \n",
      "2019-09-02                 1       0.018480  \n",
      "2019-09-09                 1       0.015563  \n",
      "2019-09-16                -1       0.001720  \n",
      "2019-09-23                -1      -0.011683  \n",
      "2019-09-30                -1      -0.014429  \n",
      "2019-10-07                 1      -0.000301  \n",
      "2019-10-14                 1       0.019019  \n",
      "2019-10-21                 1       0.006933  \n",
      "2019-10-28                 1       0.012758  \n",
      "2019-11-04                 1       0.012097  \n",
      "\n",
      "[496 rows x 12 columns]\n"
     ]
    }
   ],
   "source": [
    "print(df1)"
   ]
  },
  {
   "cell_type": "code",
   "execution_count": null,
   "metadata": {},
   "outputs": [],
   "source": []
  },
  {
   "cell_type": "code",
   "execution_count": null,
   "metadata": {},
   "outputs": [],
   "source": []
  },
  {
   "cell_type": "code",
   "execution_count": 46,
   "metadata": {},
   "outputs": [
    {
     "name": "stderr",
     "output_type": "stream",
     "text": [
      "/Users/inigo/anaconda3/lib/python3.7/site-packages/ipykernel_launcher.py:1: SettingWithCopyWarning: \n",
      "A value is trying to be set on a copy of a slice from a DataFrame.\n",
      "Try using .loc[row_indexer,col_indexer] = value instead\n",
      "\n",
      "See the caveats in the documentation: http://pandas.pydata.org/pandas-docs/stable/indexing.html#indexing-view-versus-copy\n",
      "  \"\"\"Entry point for launching an IPython kernel.\n"
     ]
    }
   ],
   "source": [
    "df1['Strategy_returns'] = df1['SP500_returns']* df1['Predicted_Signal'].shift(1)"
   ]
  },
  {
   "cell_type": "code",
   "execution_count": null,
   "metadata": {},
   "outputs": [],
   "source": []
  },
  {
   "cell_type": "code",
   "execution_count": 47,
   "metadata": {},
   "outputs": [
    {
     "name": "stderr",
     "output_type": "stream",
     "text": [
      "/Users/inigo/anaconda3/lib/python3.7/site-packages/pandas/plotting/_converter.py:129: FutureWarning: Using an implicitly registered datetime converter for a matplotlib plotting method. The converter was registered by pandas on import. Future versions of pandas will require you to explicitly register matplotlib converters.\n",
      "\n",
      "To register the converters:\n",
      "\t>>> from pandas.plotting import register_matplotlib_converters\n",
      "\t>>> register_matplotlib_converters()\n",
      "  warnings.warn(msg, FutureWarning)\n"
     ]
    },
    {
     "data": {
      "image/png": "[encoded data removed]",
      "text/plain": [
       "<Figure size 1080x360 with 1 Axes>"
      ]
     },
     "metadata": {
      "needs_background": "light"
     },
     "output_type": "display_data"
    }
   ],
   "source": [
    "Cumulative_Nifty_returns = np.cumsum(df1[split:]['SP500_returns'])\n",
    "Cumulative_Strategy_returns = np.cumsum(df1[split:]['Strategy_returns'])\n",
    "plt.figure(figsize=(15,5) )\n",
    "plt.plot(Cumulative_Nifty_returns, color='r',label = 'SP500 Returns')\n",
    "plt.plot(Cumulative_Strategy_returns, color='g', label = 'Strategy Returns')\n",
    "plt.legend()\n",
    "plt.show()"
   ]
  },
  {
   "cell_type": "code",
   "execution_count": null,
   "metadata": {},
   "outputs": [],
   "source": []
  }
 ],
 "metadata": {
  "kernelspec": {
   "display_name": "Python 3",
   "language": "python",
   "name": "python3"
  },
  "language_info": {
   "codemirror_mode": {
    "name": "ipython",
    "version": 3
   },
   "file_extension": ".py",
   "mimetype": "text/x-python",
   "name": "python",
   "nbconvert_exporter": "python",
   "pygments_lexer": "ipython3",
   "version": "3.7.3"
  }
 },
 "nbformat": 4,
 "nbformat_minor": 2
}
